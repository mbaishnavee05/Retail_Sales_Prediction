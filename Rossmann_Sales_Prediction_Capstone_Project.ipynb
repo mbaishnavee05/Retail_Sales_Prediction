{
  "cells": [
    {
      "cell_type": "markdown",
      "metadata": {
        "id": "view-in-github",
        "colab_type": "text"
      },
      "source": [
        "<a href=\"https://colab.research.google.com/github/mbaishnavee05/Retail_Sales_Prediction/blob/main/Rossmann_Sales_Prediction_Capstone_Project.ipynb\" target=\"_parent\"><img src=\"https://colab.research.google.com/assets/colab-badge.svg\" alt=\"Open In Colab\"/></a>"
      ]
    },
    {
      "cell_type": "markdown",
      "metadata": {
        "id": "tOGC-qoyhJeX"
      },
      "source": [
        "# <b><u> Project Title : Sales Prediction : Predicting sales of a major store chain Rossmann</u></b>"
      ]
    },
    {
      "cell_type": "markdown",
      "metadata": {
        "id": "Y06xIdG26kRF"
      },
      "source": [
        "## <b> Problem Description </b>\n",
        "\n",
        "### Rossmann operates over 3,000 drug stores in 7 European countries. Currently, Rossmann store managers are tasked with predicting their daily sales for up to six weeks in advance. Store sales are influenced by many factors, including promotions, competition, school and state holidays, seasonality, and locality. With thousands of individual managers predicting sales based on their unique circumstances, the accuracy of results can be quite varied.\n",
        "\n",
        "### You are provided with historical sales data for 1,115 Rossmann stores. The task is to forecast the \"Sales\" column for the test set. Note that some stores in the dataset were temporarily closed for refurbishment."
      ]
    },
    {
      "cell_type": "markdown",
      "metadata": {
        "id": "WWeU1f9bwqQq"
      },
      "source": [
        "## <b> Data Description </b>\n",
        "\n",
        "### <b>Rossmann Stores Data.csv </b> - historical data including Sales\n",
        "### <b>store.csv </b> - supplemental information about the stores\n",
        "\n",
        "\n",
        "### <b><u>Data fields</u></b>\n",
        "### Most of the fields are self-explanatory. The following are descriptions for those that aren't.\n",
        "\n",
        "* #### Id - an Id that represents a (Store, Date) duple within the test set\n",
        "* #### Store - a unique Id for each store\n",
        "* #### Sales - the turnover for any given day (this is what you are predicting)\n",
        "* #### Customers - the number of customers on a given day\n",
        "* #### Open - an indicator for whether the store was open: 0 = closed, 1 = open\n",
        "* #### StateHoliday - indicates a state holiday. Normally all stores, with few exceptions, are closed on state holidays. Note that all schools are closed on public holidays and weekends. a = public holiday, b = Easter holiday, c = Christmas, 0 = None\n",
        "* #### SchoolHoliday - indicates if the (Store, Date) was affected by the closure of public schools\n",
        "* #### StoreType - differentiates between 4 different store models: a, b, c, d\n",
        "* #### Assortment - describes an assortment level: a = basic, b = extra, c = extended\n",
        "* #### CompetitionDistance - distance in meters to the nearest competitor store\n",
        "* #### CompetitionOpenSince[Month/Year] - gives the approximate year and month of the time the nearest competitor was opened\n",
        "* #### Promo - indicates whether a store is running a promo on that day\n",
        "* #### Promo2 - Promo2 is a continuing and consecutive promotion for some stores: 0 = store is not participating, 1 = store is participating\n",
        "* #### Promo2Since[Year/Week] - describes the year and calendar week when the store started participating in Promo2\n",
        "* #### PromoInterval - describes the consecutive intervals Promo2 is started, naming the months the promotion is started anew. E.g. \"Feb,May,Aug,Nov\" means each round starts in February, May, August, November of any given year for that store"
      ]
    },
    {
      "cell_type": "markdown",
      "metadata": {
        "id": "Kuxgf4yXm5gf"
      },
      "source": [
        "# **1**.**Mounting of Drive, Loading Data and Importing of the required libraries**"
      ]
    },
    {
      "cell_type": "code",
      "execution_count": null,
      "metadata": {
        "colab": {
          "base_uri": "https://localhost:8080/"
        },
        "id": "fmVNbaBAm-D1",
        "outputId": "b248f7e8-89c1-4de7-bd56-4d0727ccd481"
      },
      "outputs": [
        {
          "output_type": "stream",
          "name": "stdout",
          "text": [
            "Mounted at /content/drive\n"
          ]
        }
      ],
      "source": [
        "# Mounting of google drive to feth the Raw_DATA_SET\n",
        "from google.colab import drive\n",
        "drive.mount('/content/drive')"
      ]
    },
    {
      "cell_type": "code",
      "execution_count": null,
      "metadata": {
        "colab": {
          "base_uri": "https://localhost:8080/",
          "height": 17
        },
        "id": "JY6y09gpnMwk",
        "outputId": "a92bacd3-b0cd-4b21-f572-e33c7542d98a"
      },
      "outputs": [
        {
          "output_type": "display_data",
          "data": {
            "text/html": [
              "        <script type=\"text/javascript\">\n",
              "        window.PlotlyConfig = {MathJaxConfig: 'local'};\n",
              "        if (window.MathJax) {MathJax.Hub.Config({SVG: {font: \"STIX-Web\"}});}\n",
              "        if (typeof require !== 'undefined') {\n",
              "        require.undef(\"plotly\");\n",
              "        requirejs.config({\n",
              "            paths: {\n",
              "                'plotly': ['https://cdn.plot.ly/plotly-2.8.3.min']\n",
              "            }\n",
              "        });\n",
              "        require(['plotly'], function(Plotly) {\n",
              "            window._Plotly = Plotly;\n",
              "        });\n",
              "        }\n",
              "        </script>\n",
              "        "
            ]
          },
          "metadata": {}
        },
        {
          "output_type": "display_data",
          "data": {
            "text/html": [
              "        <script type=\"text/javascript\">\n",
              "        window.PlotlyConfig = {MathJaxConfig: 'local'};\n",
              "        if (window.MathJax) {MathJax.Hub.Config({SVG: {font: \"STIX-Web\"}});}\n",
              "        if (typeof require !== 'undefined') {\n",
              "        require.undef(\"plotly\");\n",
              "        requirejs.config({\n",
              "            paths: {\n",
              "                'plotly': ['https://cdn.plot.ly/plotly-2.8.3.min']\n",
              "            }\n",
              "        });\n",
              "        require(['plotly'], function(Plotly) {\n",
              "            window._Plotly = Plotly;\n",
              "        });\n",
              "        }\n",
              "        </script>\n",
              "        "
            ]
          },
          "metadata": {}
        }
      ],
      "source": [
        "# Libraries which are necessary and their importing.\n",
        "import numpy as np\n",
        "import pandas as pd\n",
        "import seaborn as sns\n",
        "import matplotlib.pyplot as plt\n",
        "import plotly.express as px\n",
        "from matplotlib.lines import Line2D\n",
        "from sklearn.linear_model import LinearRegression\n",
        "from sklearn.ensemble import RandomForestRegressor\n",
        "from xgboost import XGBRegressor\n",
        "from sklearn import metrics\n",
        "from sklearn.model_selection import train_test_split, GridSearchCV\n",
        "import statsmodels.formula.api as sm\n",
        "from sklearn.model_selection import learning_curve\n",
        "from sklearn.model_selection import ShuffleSplit\n",
        "import datetime as dt\n",
        "import warnings; warnings.simplefilter('ignore')\n",
        "from plotly.offline import download_plotlyjs, init_notebook_mode, plot, iplot # data visualization\n",
        "init_notebook_mode(connected=True)\n",
        "\n",
        "import cufflinks as cf #  to call plots directly off of a pandas dataframe\n",
        "cf.go_offline()"
      ]
    },
    {
      "cell_type": "code",
      "execution_count": null,
      "metadata": {
        "id": "igTgjZZlotGj"
      },
      "outputs": [],
      "source": [
        "# Fetching the given datset using pandas\n",
        "df1=pd.read_csv('/content/drive/MyDrive/ML Almabetter Projects Retail Sales Prediction/Rossmann Stores Data.csv')\n",
        "df2=pd.read_csv('//content/drive/MyDrive/ML Almabetter Projects Retail Sales Prediction/store.csv')"
      ]
    },
    {
      "cell_type": "code",
      "execution_count": null,
      "metadata": {
        "colab": {
          "base_uri": "https://localhost:8080/",
          "height": 206
        },
        "id": "cJgWA3By433K",
        "outputId": "fddd6010-a574-4b85-e1ad-aa278391f267"
      },
      "outputs": [
        {
          "output_type": "execute_result",
          "data": {
            "text/plain": [
              "   Store  DayOfWeek        Date  Sales  Customers  Open  Promo StateHoliday  \\\n",
              "0      1          5  2015-07-31   5263        555     1      1            0   \n",
              "1      2          5  2015-07-31   6064        625     1      1            0   \n",
              "2      3          5  2015-07-31   8314        821     1      1            0   \n",
              "3      4          5  2015-07-31  13995       1498     1      1            0   \n",
              "4      5          5  2015-07-31   4822        559     1      1            0   \n",
              "\n",
              "   SchoolHoliday  \n",
              "0              1  \n",
              "1              1  \n",
              "2              1  \n",
              "3              1  \n",
              "4              1  "
            ],
            "text/html": [
              "\n",
              "  <div id=\"df-1212395a-f1ab-4240-a505-4913387f99c4\">\n",
              "    <div class=\"colab-df-container\">\n",
              "      <div>\n",
              "<style scoped>\n",
              "    .dataframe tbody tr th:only-of-type {\n",
              "        vertical-align: middle;\n",
              "    }\n",
              "\n",
              "    .dataframe tbody tr th {\n",
              "        vertical-align: top;\n",
              "    }\n",
              "\n",
              "    .dataframe thead th {\n",
              "        text-align: right;\n",
              "    }\n",
              "</style>\n",
              "<table border=\"1\" class=\"dataframe\">\n",
              "  <thead>\n",
              "    <tr style=\"text-align: right;\">\n",
              "      <th></th>\n",
              "      <th>Store</th>\n",
              "      <th>DayOfWeek</th>\n",
              "      <th>Date</th>\n",
              "      <th>Sales</th>\n",
              "      <th>Customers</th>\n",
              "      <th>Open</th>\n",
              "      <th>Promo</th>\n",
              "      <th>StateHoliday</th>\n",
              "      <th>SchoolHoliday</th>\n",
              "    </tr>\n",
              "  </thead>\n",
              "  <tbody>\n",
              "    <tr>\n",
              "      <th>0</th>\n",
              "      <td>1</td>\n",
              "      <td>5</td>\n",
              "      <td>2015-07-31</td>\n",
              "      <td>5263</td>\n",
              "      <td>555</td>\n",
              "      <td>1</td>\n",
              "      <td>1</td>\n",
              "      <td>0</td>\n",
              "      <td>1</td>\n",
              "    </tr>\n",
              "    <tr>\n",
              "      <th>1</th>\n",
              "      <td>2</td>\n",
              "      <td>5</td>\n",
              "      <td>2015-07-31</td>\n",
              "      <td>6064</td>\n",
              "      <td>625</td>\n",
              "      <td>1</td>\n",
              "      <td>1</td>\n",
              "      <td>0</td>\n",
              "      <td>1</td>\n",
              "    </tr>\n",
              "    <tr>\n",
              "      <th>2</th>\n",
              "      <td>3</td>\n",
              "      <td>5</td>\n",
              "      <td>2015-07-31</td>\n",
              "      <td>8314</td>\n",
              "      <td>821</td>\n",
              "      <td>1</td>\n",
              "      <td>1</td>\n",
              "      <td>0</td>\n",
              "      <td>1</td>\n",
              "    </tr>\n",
              "    <tr>\n",
              "      <th>3</th>\n",
              "      <td>4</td>\n",
              "      <td>5</td>\n",
              "      <td>2015-07-31</td>\n",
              "      <td>13995</td>\n",
              "      <td>1498</td>\n",
              "      <td>1</td>\n",
              "      <td>1</td>\n",
              "      <td>0</td>\n",
              "      <td>1</td>\n",
              "    </tr>\n",
              "    <tr>\n",
              "      <th>4</th>\n",
              "      <td>5</td>\n",
              "      <td>5</td>\n",
              "      <td>2015-07-31</td>\n",
              "      <td>4822</td>\n",
              "      <td>559</td>\n",
              "      <td>1</td>\n",
              "      <td>1</td>\n",
              "      <td>0</td>\n",
              "      <td>1</td>\n",
              "    </tr>\n",
              "  </tbody>\n",
              "</table>\n",
              "</div>\n",
              "      <button class=\"colab-df-convert\" onclick=\"convertToInteractive('df-1212395a-f1ab-4240-a505-4913387f99c4')\"\n",
              "              title=\"Convert this dataframe to an interactive table.\"\n",
              "              style=\"display:none;\">\n",
              "        \n",
              "  <svg xmlns=\"http://www.w3.org/2000/svg\" height=\"24px\"viewBox=\"0 0 24 24\"\n",
              "       width=\"24px\">\n",
              "    <path d=\"M0 0h24v24H0V0z\" fill=\"none\"/>\n",
              "    <path d=\"M18.56 5.44l.94 2.06.94-2.06 2.06-.94-2.06-.94-.94-2.06-.94 2.06-2.06.94zm-11 1L8.5 8.5l.94-2.06 2.06-.94-2.06-.94L8.5 2.5l-.94 2.06-2.06.94zm10 10l.94 2.06.94-2.06 2.06-.94-2.06-.94-.94-2.06-.94 2.06-2.06.94z\"/><path d=\"M17.41 7.96l-1.37-1.37c-.4-.4-.92-.59-1.43-.59-.52 0-1.04.2-1.43.59L10.3 9.45l-7.72 7.72c-.78.78-.78 2.05 0 2.83L4 21.41c.39.39.9.59 1.41.59.51 0 1.02-.2 1.41-.59l7.78-7.78 2.81-2.81c.8-.78.8-2.07 0-2.86zM5.41 20L4 18.59l7.72-7.72 1.47 1.35L5.41 20z\"/>\n",
              "  </svg>\n",
              "      </button>\n",
              "      \n",
              "  <style>\n",
              "    .colab-df-container {\n",
              "      display:flex;\n",
              "      flex-wrap:wrap;\n",
              "      gap: 12px;\n",
              "    }\n",
              "\n",
              "    .colab-df-convert {\n",
              "      background-color: #E8F0FE;\n",
              "      border: none;\n",
              "      border-radius: 50%;\n",
              "      cursor: pointer;\n",
              "      display: none;\n",
              "      fill: #1967D2;\n",
              "      height: 32px;\n",
              "      padding: 0 0 0 0;\n",
              "      width: 32px;\n",
              "    }\n",
              "\n",
              "    .colab-df-convert:hover {\n",
              "      background-color: #E2EBFA;\n",
              "      box-shadow: 0px 1px 2px rgba(60, 64, 67, 0.3), 0px 1px 3px 1px rgba(60, 64, 67, 0.15);\n",
              "      fill: #174EA6;\n",
              "    }\n",
              "\n",
              "    [theme=dark] .colab-df-convert {\n",
              "      background-color: #3B4455;\n",
              "      fill: #D2E3FC;\n",
              "    }\n",
              "\n",
              "    [theme=dark] .colab-df-convert:hover {\n",
              "      background-color: #434B5C;\n",
              "      box-shadow: 0px 1px 3px 1px rgba(0, 0, 0, 0.15);\n",
              "      filter: drop-shadow(0px 1px 2px rgba(0, 0, 0, 0.3));\n",
              "      fill: #FFFFFF;\n",
              "    }\n",
              "  </style>\n",
              "\n",
              "      <script>\n",
              "        const buttonEl =\n",
              "          document.querySelector('#df-1212395a-f1ab-4240-a505-4913387f99c4 button.colab-df-convert');\n",
              "        buttonEl.style.display =\n",
              "          google.colab.kernel.accessAllowed ? 'block' : 'none';\n",
              "\n",
              "        async function convertToInteractive(key) {\n",
              "          const element = document.querySelector('#df-1212395a-f1ab-4240-a505-4913387f99c4');\n",
              "          const dataTable =\n",
              "            await google.colab.kernel.invokeFunction('convertToInteractive',\n",
              "                                                     [key], {});\n",
              "          if (!dataTable) return;\n",
              "\n",
              "          const docLinkHtml = 'Like what you see? Visit the ' +\n",
              "            '<a target=\"_blank\" href=https://colab.research.google.com/notebooks/data_table.ipynb>data table notebook</a>'\n",
              "            + ' to learn more about interactive tables.';\n",
              "          element.innerHTML = '';\n",
              "          dataTable['output_type'] = 'display_data';\n",
              "          await google.colab.output.renderOutput(dataTable, element);\n",
              "          const docLink = document.createElement('div');\n",
              "          docLink.innerHTML = docLinkHtml;\n",
              "          element.appendChild(docLink);\n",
              "        }\n",
              "      </script>\n",
              "    </div>\n",
              "  </div>\n",
              "  "
            ]
          },
          "metadata": {},
          "execution_count": 4
        }
      ],
      "source": [
        "#First look\n",
        "#Top 5 rows of the data set\n",
        "df1.head()"
      ]
    },
    {
      "cell_type": "code",
      "execution_count": null,
      "metadata": {
        "colab": {
          "base_uri": "https://localhost:8080/",
          "height": 270
        },
        "id": "XAo7aVEK1SdG",
        "outputId": "8dba1caf-ce2e-4181-e38a-45de2e4c1ec9"
      },
      "outputs": [
        {
          "output_type": "execute_result",
          "data": {
            "text/plain": [
              "   Store StoreType Assortment  CompetitionDistance  CompetitionOpenSinceMonth  \\\n",
              "0      1         c          a               1270.0                        9.0   \n",
              "1      2         a          a                570.0                       11.0   \n",
              "2      3         a          a              14130.0                       12.0   \n",
              "3      4         c          c                620.0                        9.0   \n",
              "4      5         a          a              29910.0                        4.0   \n",
              "\n",
              "   CompetitionOpenSinceYear  Promo2  Promo2SinceWeek  Promo2SinceYear  \\\n",
              "0                    2008.0       0              NaN              NaN   \n",
              "1                    2007.0       1             13.0           2010.0   \n",
              "2                    2006.0       1             14.0           2011.0   \n",
              "3                    2009.0       0              NaN              NaN   \n",
              "4                    2015.0       0              NaN              NaN   \n",
              "\n",
              "     PromoInterval  \n",
              "0              NaN  \n",
              "1  Jan,Apr,Jul,Oct  \n",
              "2  Jan,Apr,Jul,Oct  \n",
              "3              NaN  \n",
              "4              NaN  "
            ],
            "text/html": [
              "\n",
              "  <div id=\"df-d648bf5c-3b7d-4828-ba98-30cfbd6688ea\">\n",
              "    <div class=\"colab-df-container\">\n",
              "      <div>\n",
              "<style scoped>\n",
              "    .dataframe tbody tr th:only-of-type {\n",
              "        vertical-align: middle;\n",
              "    }\n",
              "\n",
              "    .dataframe tbody tr th {\n",
              "        vertical-align: top;\n",
              "    }\n",
              "\n",
              "    .dataframe thead th {\n",
              "        text-align: right;\n",
              "    }\n",
              "</style>\n",
              "<table border=\"1\" class=\"dataframe\">\n",
              "  <thead>\n",
              "    <tr style=\"text-align: right;\">\n",
              "      <th></th>\n",
              "      <th>Store</th>\n",
              "      <th>StoreType</th>\n",
              "      <th>Assortment</th>\n",
              "      <th>CompetitionDistance</th>\n",
              "      <th>CompetitionOpenSinceMonth</th>\n",
              "      <th>CompetitionOpenSinceYear</th>\n",
              "      <th>Promo2</th>\n",
              "      <th>Promo2SinceWeek</th>\n",
              "      <th>Promo2SinceYear</th>\n",
              "      <th>PromoInterval</th>\n",
              "    </tr>\n",
              "  </thead>\n",
              "  <tbody>\n",
              "    <tr>\n",
              "      <th>0</th>\n",
              "      <td>1</td>\n",
              "      <td>c</td>\n",
              "      <td>a</td>\n",
              "      <td>1270.0</td>\n",
              "      <td>9.0</td>\n",
              "      <td>2008.0</td>\n",
              "      <td>0</td>\n",
              "      <td>NaN</td>\n",
              "      <td>NaN</td>\n",
              "      <td>NaN</td>\n",
              "    </tr>\n",
              "    <tr>\n",
              "      <th>1</th>\n",
              "      <td>2</td>\n",
              "      <td>a</td>\n",
              "      <td>a</td>\n",
              "      <td>570.0</td>\n",
              "      <td>11.0</td>\n",
              "      <td>2007.0</td>\n",
              "      <td>1</td>\n",
              "      <td>13.0</td>\n",
              "      <td>2010.0</td>\n",
              "      <td>Jan,Apr,Jul,Oct</td>\n",
              "    </tr>\n",
              "    <tr>\n",
              "      <th>2</th>\n",
              "      <td>3</td>\n",
              "      <td>a</td>\n",
              "      <td>a</td>\n",
              "      <td>14130.0</td>\n",
              "      <td>12.0</td>\n",
              "      <td>2006.0</td>\n",
              "      <td>1</td>\n",
              "      <td>14.0</td>\n",
              "      <td>2011.0</td>\n",
              "      <td>Jan,Apr,Jul,Oct</td>\n",
              "    </tr>\n",
              "    <tr>\n",
              "      <th>3</th>\n",
              "      <td>4</td>\n",
              "      <td>c</td>\n",
              "      <td>c</td>\n",
              "      <td>620.0</td>\n",
              "      <td>9.0</td>\n",
              "      <td>2009.0</td>\n",
              "      <td>0</td>\n",
              "      <td>NaN</td>\n",
              "      <td>NaN</td>\n",
              "      <td>NaN</td>\n",
              "    </tr>\n",
              "    <tr>\n",
              "      <th>4</th>\n",
              "      <td>5</td>\n",
              "      <td>a</td>\n",
              "      <td>a</td>\n",
              "      <td>29910.0</td>\n",
              "      <td>4.0</td>\n",
              "      <td>2015.0</td>\n",
              "      <td>0</td>\n",
              "      <td>NaN</td>\n",
              "      <td>NaN</td>\n",
              "      <td>NaN</td>\n",
              "    </tr>\n",
              "  </tbody>\n",
              "</table>\n",
              "</div>\n",
              "      <button class=\"colab-df-convert\" onclick=\"convertToInteractive('df-d648bf5c-3b7d-4828-ba98-30cfbd6688ea')\"\n",
              "              title=\"Convert this dataframe to an interactive table.\"\n",
              "              style=\"display:none;\">\n",
              "        \n",
              "  <svg xmlns=\"http://www.w3.org/2000/svg\" height=\"24px\"viewBox=\"0 0 24 24\"\n",
              "       width=\"24px\">\n",
              "    <path d=\"M0 0h24v24H0V0z\" fill=\"none\"/>\n",
              "    <path d=\"M18.56 5.44l.94 2.06.94-2.06 2.06-.94-2.06-.94-.94-2.06-.94 2.06-2.06.94zm-11 1L8.5 8.5l.94-2.06 2.06-.94-2.06-.94L8.5 2.5l-.94 2.06-2.06.94zm10 10l.94 2.06.94-2.06 2.06-.94-2.06-.94-.94-2.06-.94 2.06-2.06.94z\"/><path d=\"M17.41 7.96l-1.37-1.37c-.4-.4-.92-.59-1.43-.59-.52 0-1.04.2-1.43.59L10.3 9.45l-7.72 7.72c-.78.78-.78 2.05 0 2.83L4 21.41c.39.39.9.59 1.41.59.51 0 1.02-.2 1.41-.59l7.78-7.78 2.81-2.81c.8-.78.8-2.07 0-2.86zM5.41 20L4 18.59l7.72-7.72 1.47 1.35L5.41 20z\"/>\n",
              "  </svg>\n",
              "      </button>\n",
              "      \n",
              "  <style>\n",
              "    .colab-df-container {\n",
              "      display:flex;\n",
              "      flex-wrap:wrap;\n",
              "      gap: 12px;\n",
              "    }\n",
              "\n",
              "    .colab-df-convert {\n",
              "      background-color: #E8F0FE;\n",
              "      border: none;\n",
              "      border-radius: 50%;\n",
              "      cursor: pointer;\n",
              "      display: none;\n",
              "      fill: #1967D2;\n",
              "      height: 32px;\n",
              "      padding: 0 0 0 0;\n",
              "      width: 32px;\n",
              "    }\n",
              "\n",
              "    .colab-df-convert:hover {\n",
              "      background-color: #E2EBFA;\n",
              "      box-shadow: 0px 1px 2px rgba(60, 64, 67, 0.3), 0px 1px 3px 1px rgba(60, 64, 67, 0.15);\n",
              "      fill: #174EA6;\n",
              "    }\n",
              "\n",
              "    [theme=dark] .colab-df-convert {\n",
              "      background-color: #3B4455;\n",
              "      fill: #D2E3FC;\n",
              "    }\n",
              "\n",
              "    [theme=dark] .colab-df-convert:hover {\n",
              "      background-color: #434B5C;\n",
              "      box-shadow: 0px 1px 3px 1px rgba(0, 0, 0, 0.15);\n",
              "      filter: drop-shadow(0px 1px 2px rgba(0, 0, 0, 0.3));\n",
              "      fill: #FFFFFF;\n",
              "    }\n",
              "  </style>\n",
              "\n",
              "      <script>\n",
              "        const buttonEl =\n",
              "          document.querySelector('#df-d648bf5c-3b7d-4828-ba98-30cfbd6688ea button.colab-df-convert');\n",
              "        buttonEl.style.display =\n",
              "          google.colab.kernel.accessAllowed ? 'block' : 'none';\n",
              "\n",
              "        async function convertToInteractive(key) {\n",
              "          const element = document.querySelector('#df-d648bf5c-3b7d-4828-ba98-30cfbd6688ea');\n",
              "          const dataTable =\n",
              "            await google.colab.kernel.invokeFunction('convertToInteractive',\n",
              "                                                     [key], {});\n",
              "          if (!dataTable) return;\n",
              "\n",
              "          const docLinkHtml = 'Like what you see? Visit the ' +\n",
              "            '<a target=\"_blank\" href=https://colab.research.google.com/notebooks/data_table.ipynb>data table notebook</a>'\n",
              "            + ' to learn more about interactive tables.';\n",
              "          element.innerHTML = '';\n",
              "          dataTable['output_type'] = 'display_data';\n",
              "          await google.colab.output.renderOutput(dataTable, element);\n",
              "          const docLink = document.createElement('div');\n",
              "          docLink.innerHTML = docLinkHtml;\n",
              "          element.appendChild(docLink);\n",
              "        }\n",
              "      </script>\n",
              "    </div>\n",
              "  </div>\n",
              "  "
            ]
          },
          "metadata": {},
          "execution_count": 5
        }
      ],
      "source": [
        "df2.head()"
      ]
    },
    {
      "cell_type": "code",
      "execution_count": null,
      "metadata": {
        "colab": {
          "base_uri": "https://localhost:8080/",
          "height": 206
        },
        "id": "VNk-5BiE3NKC",
        "outputId": "ae8c8dba-8385-4b66-8565-65113b8d7109"
      },
      "outputs": [
        {
          "output_type": "execute_result",
          "data": {
            "text/plain": [
              "         Store  DayOfWeek        Date  Sales  Customers  Open  Promo  \\\n",
              "1017204   1111          2  2013-01-01      0          0     0      0   \n",
              "1017205   1112          2  2013-01-01      0          0     0      0   \n",
              "1017206   1113          2  2013-01-01      0          0     0      0   \n",
              "1017207   1114          2  2013-01-01      0          0     0      0   \n",
              "1017208   1115          2  2013-01-01      0          0     0      0   \n",
              "\n",
              "        StateHoliday  SchoolHoliday  \n",
              "1017204            a              1  \n",
              "1017205            a              1  \n",
              "1017206            a              1  \n",
              "1017207            a              1  \n",
              "1017208            a              1  "
            ],
            "text/html": [
              "\n",
              "  <div id=\"df-f915940b-d319-4b17-94d7-4a420aa21210\">\n",
              "    <div class=\"colab-df-container\">\n",
              "      <div>\n",
              "<style scoped>\n",
              "    .dataframe tbody tr th:only-of-type {\n",
              "        vertical-align: middle;\n",
              "    }\n",
              "\n",
              "    .dataframe tbody tr th {\n",
              "        vertical-align: top;\n",
              "    }\n",
              "\n",
              "    .dataframe thead th {\n",
              "        text-align: right;\n",
              "    }\n",
              "</style>\n",
              "<table border=\"1\" class=\"dataframe\">\n",
              "  <thead>\n",
              "    <tr style=\"text-align: right;\">\n",
              "      <th></th>\n",
              "      <th>Store</th>\n",
              "      <th>DayOfWeek</th>\n",
              "      <th>Date</th>\n",
              "      <th>Sales</th>\n",
              "      <th>Customers</th>\n",
              "      <th>Open</th>\n",
              "      <th>Promo</th>\n",
              "      <th>StateHoliday</th>\n",
              "      <th>SchoolHoliday</th>\n",
              "    </tr>\n",
              "  </thead>\n",
              "  <tbody>\n",
              "    <tr>\n",
              "      <th>1017204</th>\n",
              "      <td>1111</td>\n",
              "      <td>2</td>\n",
              "      <td>2013-01-01</td>\n",
              "      <td>0</td>\n",
              "      <td>0</td>\n",
              "      <td>0</td>\n",
              "      <td>0</td>\n",
              "      <td>a</td>\n",
              "      <td>1</td>\n",
              "    </tr>\n",
              "    <tr>\n",
              "      <th>1017205</th>\n",
              "      <td>1112</td>\n",
              "      <td>2</td>\n",
              "      <td>2013-01-01</td>\n",
              "      <td>0</td>\n",
              "      <td>0</td>\n",
              "      <td>0</td>\n",
              "      <td>0</td>\n",
              "      <td>a</td>\n",
              "      <td>1</td>\n",
              "    </tr>\n",
              "    <tr>\n",
              "      <th>1017206</th>\n",
              "      <td>1113</td>\n",
              "      <td>2</td>\n",
              "      <td>2013-01-01</td>\n",
              "      <td>0</td>\n",
              "      <td>0</td>\n",
              "      <td>0</td>\n",
              "      <td>0</td>\n",
              "      <td>a</td>\n",
              "      <td>1</td>\n",
              "    </tr>\n",
              "    <tr>\n",
              "      <th>1017207</th>\n",
              "      <td>1114</td>\n",
              "      <td>2</td>\n",
              "      <td>2013-01-01</td>\n",
              "      <td>0</td>\n",
              "      <td>0</td>\n",
              "      <td>0</td>\n",
              "      <td>0</td>\n",
              "      <td>a</td>\n",
              "      <td>1</td>\n",
              "    </tr>\n",
              "    <tr>\n",
              "      <th>1017208</th>\n",
              "      <td>1115</td>\n",
              "      <td>2</td>\n",
              "      <td>2013-01-01</td>\n",
              "      <td>0</td>\n",
              "      <td>0</td>\n",
              "      <td>0</td>\n",
              "      <td>0</td>\n",
              "      <td>a</td>\n",
              "      <td>1</td>\n",
              "    </tr>\n",
              "  </tbody>\n",
              "</table>\n",
              "</div>\n",
              "      <button class=\"colab-df-convert\" onclick=\"convertToInteractive('df-f915940b-d319-4b17-94d7-4a420aa21210')\"\n",
              "              title=\"Convert this dataframe to an interactive table.\"\n",
              "              style=\"display:none;\">\n",
              "        \n",
              "  <svg xmlns=\"http://www.w3.org/2000/svg\" height=\"24px\"viewBox=\"0 0 24 24\"\n",
              "       width=\"24px\">\n",
              "    <path d=\"M0 0h24v24H0V0z\" fill=\"none\"/>\n",
              "    <path d=\"M18.56 5.44l.94 2.06.94-2.06 2.06-.94-2.06-.94-.94-2.06-.94 2.06-2.06.94zm-11 1L8.5 8.5l.94-2.06 2.06-.94-2.06-.94L8.5 2.5l-.94 2.06-2.06.94zm10 10l.94 2.06.94-2.06 2.06-.94-2.06-.94-.94-2.06-.94 2.06-2.06.94z\"/><path d=\"M17.41 7.96l-1.37-1.37c-.4-.4-.92-.59-1.43-.59-.52 0-1.04.2-1.43.59L10.3 9.45l-7.72 7.72c-.78.78-.78 2.05 0 2.83L4 21.41c.39.39.9.59 1.41.59.51 0 1.02-.2 1.41-.59l7.78-7.78 2.81-2.81c.8-.78.8-2.07 0-2.86zM5.41 20L4 18.59l7.72-7.72 1.47 1.35L5.41 20z\"/>\n",
              "  </svg>\n",
              "      </button>\n",
              "      \n",
              "  <style>\n",
              "    .colab-df-container {\n",
              "      display:flex;\n",
              "      flex-wrap:wrap;\n",
              "      gap: 12px;\n",
              "    }\n",
              "\n",
              "    .colab-df-convert {\n",
              "      background-color: #E8F0FE;\n",
              "      border: none;\n",
              "      border-radius: 50%;\n",
              "      cursor: pointer;\n",
              "      display: none;\n",
              "      fill: #1967D2;\n",
              "      height: 32px;\n",
              "      padding: 0 0 0 0;\n",
              "      width: 32px;\n",
              "    }\n",
              "\n",
              "    .colab-df-convert:hover {\n",
              "      background-color: #E2EBFA;\n",
              "      box-shadow: 0px 1px 2px rgba(60, 64, 67, 0.3), 0px 1px 3px 1px rgba(60, 64, 67, 0.15);\n",
              "      fill: #174EA6;\n",
              "    }\n",
              "\n",
              "    [theme=dark] .colab-df-convert {\n",
              "      background-color: #3B4455;\n",
              "      fill: #D2E3FC;\n",
              "    }\n",
              "\n",
              "    [theme=dark] .colab-df-convert:hover {\n",
              "      background-color: #434B5C;\n",
              "      box-shadow: 0px 1px 3px 1px rgba(0, 0, 0, 0.15);\n",
              "      filter: drop-shadow(0px 1px 2px rgba(0, 0, 0, 0.3));\n",
              "      fill: #FFFFFF;\n",
              "    }\n",
              "  </style>\n",
              "\n",
              "      <script>\n",
              "        const buttonEl =\n",
              "          document.querySelector('#df-f915940b-d319-4b17-94d7-4a420aa21210 button.colab-df-convert');\n",
              "        buttonEl.style.display =\n",
              "          google.colab.kernel.accessAllowed ? 'block' : 'none';\n",
              "\n",
              "        async function convertToInteractive(key) {\n",
              "          const element = document.querySelector('#df-f915940b-d319-4b17-94d7-4a420aa21210');\n",
              "          const dataTable =\n",
              "            await google.colab.kernel.invokeFunction('convertToInteractive',\n",
              "                                                     [key], {});\n",
              "          if (!dataTable) return;\n",
              "\n",
              "          const docLinkHtml = 'Like what you see? Visit the ' +\n",
              "            '<a target=\"_blank\" href=https://colab.research.google.com/notebooks/data_table.ipynb>data table notebook</a>'\n",
              "            + ' to learn more about interactive tables.';\n",
              "          element.innerHTML = '';\n",
              "          dataTable['output_type'] = 'display_data';\n",
              "          await google.colab.output.renderOutput(dataTable, element);\n",
              "          const docLink = document.createElement('div');\n",
              "          docLink.innerHTML = docLinkHtml;\n",
              "          element.appendChild(docLink);\n",
              "        }\n",
              "      </script>\n",
              "    </div>\n",
              "  </div>\n",
              "  "
            ]
          },
          "metadata": {},
          "execution_count": 6
        }
      ],
      "source": [
        "#last 5 rows of the dataset\n",
        "df1.tail()"
      ]
    },
    {
      "cell_type": "code",
      "execution_count": null,
      "metadata": {
        "colab": {
          "base_uri": "https://localhost:8080/",
          "height": 270
        },
        "id": "zxzGBWtW30xL",
        "outputId": "440b6356-3a6f-46c4-e54d-d114129293f9"
      },
      "outputs": [
        {
          "output_type": "execute_result",
          "data": {
            "text/plain": [
              "      Store StoreType Assortment  CompetitionDistance  \\\n",
              "1110   1111         a          a               1900.0   \n",
              "1111   1112         c          c               1880.0   \n",
              "1112   1113         a          c               9260.0   \n",
              "1113   1114         a          c                870.0   \n",
              "1114   1115         d          c               5350.0   \n",
              "\n",
              "      CompetitionOpenSinceMonth  CompetitionOpenSinceYear  Promo2  \\\n",
              "1110                        6.0                    2014.0       1   \n",
              "1111                        4.0                    2006.0       0   \n",
              "1112                        NaN                       NaN       0   \n",
              "1113                        NaN                       NaN       0   \n",
              "1114                        NaN                       NaN       1   \n",
              "\n",
              "      Promo2SinceWeek  Promo2SinceYear     PromoInterval  \n",
              "1110             31.0           2013.0   Jan,Apr,Jul,Oct  \n",
              "1111              NaN              NaN               NaN  \n",
              "1112              NaN              NaN               NaN  \n",
              "1113              NaN              NaN               NaN  \n",
              "1114             22.0           2012.0  Mar,Jun,Sept,Dec  "
            ],
            "text/html": [
              "\n",
              "  <div id=\"df-dde2cbbb-e699-49ec-bba2-69add264a60e\">\n",
              "    <div class=\"colab-df-container\">\n",
              "      <div>\n",
              "<style scoped>\n",
              "    .dataframe tbody tr th:only-of-type {\n",
              "        vertical-align: middle;\n",
              "    }\n",
              "\n",
              "    .dataframe tbody tr th {\n",
              "        vertical-align: top;\n",
              "    }\n",
              "\n",
              "    .dataframe thead th {\n",
              "        text-align: right;\n",
              "    }\n",
              "</style>\n",
              "<table border=\"1\" class=\"dataframe\">\n",
              "  <thead>\n",
              "    <tr style=\"text-align: right;\">\n",
              "      <th></th>\n",
              "      <th>Store</th>\n",
              "      <th>StoreType</th>\n",
              "      <th>Assortment</th>\n",
              "      <th>CompetitionDistance</th>\n",
              "      <th>CompetitionOpenSinceMonth</th>\n",
              "      <th>CompetitionOpenSinceYear</th>\n",
              "      <th>Promo2</th>\n",
              "      <th>Promo2SinceWeek</th>\n",
              "      <th>Promo2SinceYear</th>\n",
              "      <th>PromoInterval</th>\n",
              "    </tr>\n",
              "  </thead>\n",
              "  <tbody>\n",
              "    <tr>\n",
              "      <th>1110</th>\n",
              "      <td>1111</td>\n",
              "      <td>a</td>\n",
              "      <td>a</td>\n",
              "      <td>1900.0</td>\n",
              "      <td>6.0</td>\n",
              "      <td>2014.0</td>\n",
              "      <td>1</td>\n",
              "      <td>31.0</td>\n",
              "      <td>2013.0</td>\n",
              "      <td>Jan,Apr,Jul,Oct</td>\n",
              "    </tr>\n",
              "    <tr>\n",
              "      <th>1111</th>\n",
              "      <td>1112</td>\n",
              "      <td>c</td>\n",
              "      <td>c</td>\n",
              "      <td>1880.0</td>\n",
              "      <td>4.0</td>\n",
              "      <td>2006.0</td>\n",
              "      <td>0</td>\n",
              "      <td>NaN</td>\n",
              "      <td>NaN</td>\n",
              "      <td>NaN</td>\n",
              "    </tr>\n",
              "    <tr>\n",
              "      <th>1112</th>\n",
              "      <td>1113</td>\n",
              "      <td>a</td>\n",
              "      <td>c</td>\n",
              "      <td>9260.0</td>\n",
              "      <td>NaN</td>\n",
              "      <td>NaN</td>\n",
              "      <td>0</td>\n",
              "      <td>NaN</td>\n",
              "      <td>NaN</td>\n",
              "      <td>NaN</td>\n",
              "    </tr>\n",
              "    <tr>\n",
              "      <th>1113</th>\n",
              "      <td>1114</td>\n",
              "      <td>a</td>\n",
              "      <td>c</td>\n",
              "      <td>870.0</td>\n",
              "      <td>NaN</td>\n",
              "      <td>NaN</td>\n",
              "      <td>0</td>\n",
              "      <td>NaN</td>\n",
              "      <td>NaN</td>\n",
              "      <td>NaN</td>\n",
              "    </tr>\n",
              "    <tr>\n",
              "      <th>1114</th>\n",
              "      <td>1115</td>\n",
              "      <td>d</td>\n",
              "      <td>c</td>\n",
              "      <td>5350.0</td>\n",
              "      <td>NaN</td>\n",
              "      <td>NaN</td>\n",
              "      <td>1</td>\n",
              "      <td>22.0</td>\n",
              "      <td>2012.0</td>\n",
              "      <td>Mar,Jun,Sept,Dec</td>\n",
              "    </tr>\n",
              "  </tbody>\n",
              "</table>\n",
              "</div>\n",
              "      <button class=\"colab-df-convert\" onclick=\"convertToInteractive('df-dde2cbbb-e699-49ec-bba2-69add264a60e')\"\n",
              "              title=\"Convert this dataframe to an interactive table.\"\n",
              "              style=\"display:none;\">\n",
              "        \n",
              "  <svg xmlns=\"http://www.w3.org/2000/svg\" height=\"24px\"viewBox=\"0 0 24 24\"\n",
              "       width=\"24px\">\n",
              "    <path d=\"M0 0h24v24H0V0z\" fill=\"none\"/>\n",
              "    <path d=\"M18.56 5.44l.94 2.06.94-2.06 2.06-.94-2.06-.94-.94-2.06-.94 2.06-2.06.94zm-11 1L8.5 8.5l.94-2.06 2.06-.94-2.06-.94L8.5 2.5l-.94 2.06-2.06.94zm10 10l.94 2.06.94-2.06 2.06-.94-2.06-.94-.94-2.06-.94 2.06-2.06.94z\"/><path d=\"M17.41 7.96l-1.37-1.37c-.4-.4-.92-.59-1.43-.59-.52 0-1.04.2-1.43.59L10.3 9.45l-7.72 7.72c-.78.78-.78 2.05 0 2.83L4 21.41c.39.39.9.59 1.41.59.51 0 1.02-.2 1.41-.59l7.78-7.78 2.81-2.81c.8-.78.8-2.07 0-2.86zM5.41 20L4 18.59l7.72-7.72 1.47 1.35L5.41 20z\"/>\n",
              "  </svg>\n",
              "      </button>\n",
              "      \n",
              "  <style>\n",
              "    .colab-df-container {\n",
              "      display:flex;\n",
              "      flex-wrap:wrap;\n",
              "      gap: 12px;\n",
              "    }\n",
              "\n",
              "    .colab-df-convert {\n",
              "      background-color: #E8F0FE;\n",
              "      border: none;\n",
              "      border-radius: 50%;\n",
              "      cursor: pointer;\n",
              "      display: none;\n",
              "      fill: #1967D2;\n",
              "      height: 32px;\n",
              "      padding: 0 0 0 0;\n",
              "      width: 32px;\n",
              "    }\n",
              "\n",
              "    .colab-df-convert:hover {\n",
              "      background-color: #E2EBFA;\n",
              "      box-shadow: 0px 1px 2px rgba(60, 64, 67, 0.3), 0px 1px 3px 1px rgba(60, 64, 67, 0.15);\n",
              "      fill: #174EA6;\n",
              "    }\n",
              "\n",
              "    [theme=dark] .colab-df-convert {\n",
              "      background-color: #3B4455;\n",
              "      fill: #D2E3FC;\n",
              "    }\n",
              "\n",
              "    [theme=dark] .colab-df-convert:hover {\n",
              "      background-color: #434B5C;\n",
              "      box-shadow: 0px 1px 3px 1px rgba(0, 0, 0, 0.15);\n",
              "      filter: drop-shadow(0px 1px 2px rgba(0, 0, 0, 0.3));\n",
              "      fill: #FFFFFF;\n",
              "    }\n",
              "  </style>\n",
              "\n",
              "      <script>\n",
              "        const buttonEl =\n",
              "          document.querySelector('#df-dde2cbbb-e699-49ec-bba2-69add264a60e button.colab-df-convert');\n",
              "        buttonEl.style.display =\n",
              "          google.colab.kernel.accessAllowed ? 'block' : 'none';\n",
              "\n",
              "        async function convertToInteractive(key) {\n",
              "          const element = document.querySelector('#df-dde2cbbb-e699-49ec-bba2-69add264a60e');\n",
              "          const dataTable =\n",
              "            await google.colab.kernel.invokeFunction('convertToInteractive',\n",
              "                                                     [key], {});\n",
              "          if (!dataTable) return;\n",
              "\n",
              "          const docLinkHtml = 'Like what you see? Visit the ' +\n",
              "            '<a target=\"_blank\" href=https://colab.research.google.com/notebooks/data_table.ipynb>data table notebook</a>'\n",
              "            + ' to learn more about interactive tables.';\n",
              "          element.innerHTML = '';\n",
              "          dataTable['output_type'] = 'display_data';\n",
              "          await google.colab.output.renderOutput(dataTable, element);\n",
              "          const docLink = document.createElement('div');\n",
              "          docLink.innerHTML = docLinkHtml;\n",
              "          element.appendChild(docLink);\n",
              "        }\n",
              "      </script>\n",
              "    </div>\n",
              "  </div>\n",
              "  "
            ]
          },
          "metadata": {},
          "execution_count": 7
        }
      ],
      "source": [
        "df2.tail()"
      ]
    },
    {
      "cell_type": "code",
      "execution_count": null,
      "metadata": {
        "colab": {
          "base_uri": "https://localhost:8080/"
        },
        "id": "x0GkotTs34hl",
        "outputId": "c8e5060c-703f-436d-d53c-2b08ce8b6c95"
      },
      "outputs": [
        {
          "output_type": "execute_result",
          "data": {
            "text/plain": [
              "(1017209, 9)"
            ]
          },
          "metadata": {},
          "execution_count": 8
        }
      ],
      "source": [
        "#No of rows and columns of the dataset\n",
        "df1.shape"
      ]
    },
    {
      "cell_type": "code",
      "execution_count": null,
      "metadata": {
        "colab": {
          "base_uri": "https://localhost:8080/"
        },
        "id": "jg4CzqMg5MRX",
        "outputId": "dedb09f8-bc0a-4721-dc15-6ae5277e6e29"
      },
      "outputs": [
        {
          "output_type": "execute_result",
          "data": {
            "text/plain": [
              "(1115, 10)"
            ]
          },
          "metadata": {},
          "execution_count": 9
        }
      ],
      "source": [
        "df2.shape"
      ]
    },
    {
      "cell_type": "code",
      "execution_count": null,
      "metadata": {
        "colab": {
          "base_uri": "https://localhost:8080/"
        },
        "id": "33X27lGs5QHd",
        "outputId": "a3dbd9a5-4686-440b-f515-637a42d327a4"
      },
      "outputs": [
        {
          "output_type": "execute_result",
          "data": {
            "text/plain": [
              "<bound method DataFrame.info of          Store  DayOfWeek        Date  Sales  Customers  Open  Promo  \\\n",
              "0            1          5  2015-07-31   5263        555     1      1   \n",
              "1            2          5  2015-07-31   6064        625     1      1   \n",
              "2            3          5  2015-07-31   8314        821     1      1   \n",
              "3            4          5  2015-07-31  13995       1498     1      1   \n",
              "4            5          5  2015-07-31   4822        559     1      1   \n",
              "...        ...        ...         ...    ...        ...   ...    ...   \n",
              "1017204   1111          2  2013-01-01      0          0     0      0   \n",
              "1017205   1112          2  2013-01-01      0          0     0      0   \n",
              "1017206   1113          2  2013-01-01      0          0     0      0   \n",
              "1017207   1114          2  2013-01-01      0          0     0      0   \n",
              "1017208   1115          2  2013-01-01      0          0     0      0   \n",
              "\n",
              "        StateHoliday  SchoolHoliday  \n",
              "0                  0              1  \n",
              "1                  0              1  \n",
              "2                  0              1  \n",
              "3                  0              1  \n",
              "4                  0              1  \n",
              "...              ...            ...  \n",
              "1017204            a              1  \n",
              "1017205            a              1  \n",
              "1017206            a              1  \n",
              "1017207            a              1  \n",
              "1017208            a              1  \n",
              "\n",
              "[1017209 rows x 9 columns]>"
            ]
          },
          "metadata": {},
          "execution_count": 10
        }
      ],
      "source": [
        "#info function will tell the count of null values and the data types of the columns\n",
        "df1.info"
      ]
    },
    {
      "cell_type": "code",
      "execution_count": null,
      "metadata": {
        "colab": {
          "base_uri": "https://localhost:8080/"
        },
        "id": "z21z0Ad35joy",
        "outputId": "a9ad2082-370e-493f-deb2-2c358f83cba8"
      },
      "outputs": [
        {
          "output_type": "execute_result",
          "data": {
            "text/plain": [
              "<bound method DataFrame.info of       Store StoreType Assortment  CompetitionDistance  \\\n",
              "0         1         c          a               1270.0   \n",
              "1         2         a          a                570.0   \n",
              "2         3         a          a              14130.0   \n",
              "3         4         c          c                620.0   \n",
              "4         5         a          a              29910.0   \n",
              "...     ...       ...        ...                  ...   \n",
              "1110   1111         a          a               1900.0   \n",
              "1111   1112         c          c               1880.0   \n",
              "1112   1113         a          c               9260.0   \n",
              "1113   1114         a          c                870.0   \n",
              "1114   1115         d          c               5350.0   \n",
              "\n",
              "      CompetitionOpenSinceMonth  CompetitionOpenSinceYear  Promo2  \\\n",
              "0                           9.0                    2008.0       0   \n",
              "1                          11.0                    2007.0       1   \n",
              "2                          12.0                    2006.0       1   \n",
              "3                           9.0                    2009.0       0   \n",
              "4                           4.0                    2015.0       0   \n",
              "...                         ...                       ...     ...   \n",
              "1110                        6.0                    2014.0       1   \n",
              "1111                        4.0                    2006.0       0   \n",
              "1112                        NaN                       NaN       0   \n",
              "1113                        NaN                       NaN       0   \n",
              "1114                        NaN                       NaN       1   \n",
              "\n",
              "      Promo2SinceWeek  Promo2SinceYear     PromoInterval  \n",
              "0                 NaN              NaN               NaN  \n",
              "1                13.0           2010.0   Jan,Apr,Jul,Oct  \n",
              "2                14.0           2011.0   Jan,Apr,Jul,Oct  \n",
              "3                 NaN              NaN               NaN  \n",
              "4                 NaN              NaN               NaN  \n",
              "...               ...              ...               ...  \n",
              "1110             31.0           2013.0   Jan,Apr,Jul,Oct  \n",
              "1111              NaN              NaN               NaN  \n",
              "1112              NaN              NaN               NaN  \n",
              "1113              NaN              NaN               NaN  \n",
              "1114             22.0           2012.0  Mar,Jun,Sept,Dec  \n",
              "\n",
              "[1115 rows x 10 columns]>"
            ]
          },
          "metadata": {},
          "execution_count": 11
        }
      ],
      "source": [
        "df2.info"
      ]
    },
    {
      "cell_type": "code",
      "execution_count": null,
      "metadata": {
        "colab": {
          "base_uri": "https://localhost:8080/",
          "height": 357
        },
        "id": "hneMNuIg7vVu",
        "outputId": "1a6f4dcb-1b48-4dad-e543-7f5e48aa98d3"
      },
      "outputs": [
        {
          "output_type": "execute_result",
          "data": {
            "text/plain": [
              "   Store  DayOfWeek        Date  Sales  Customers  Open  Promo StateHoliday  \\\n",
              "0      1          5  2015-07-31   5263        555     1      1            0   \n",
              "1      1          4  2015-07-30   5020        546     1      1            0   \n",
              "2      1          3  2015-07-29   4782        523     1      1            0   \n",
              "3      1          2  2015-07-28   5011        560     1      1            0   \n",
              "4      1          1  2015-07-27   6102        612     1      1            0   \n",
              "\n",
              "   SchoolHoliday StoreType Assortment  CompetitionDistance  \\\n",
              "0              1         c          a               1270.0   \n",
              "1              1         c          a               1270.0   \n",
              "2              1         c          a               1270.0   \n",
              "3              1         c          a               1270.0   \n",
              "4              1         c          a               1270.0   \n",
              "\n",
              "   CompetitionOpenSinceMonth  CompetitionOpenSinceYear  Promo2  \\\n",
              "0                        9.0                    2008.0       0   \n",
              "1                        9.0                    2008.0       0   \n",
              "2                        9.0                    2008.0       0   \n",
              "3                        9.0                    2008.0       0   \n",
              "4                        9.0                    2008.0       0   \n",
              "\n",
              "   Promo2SinceWeek  Promo2SinceYear PromoInterval  \n",
              "0              NaN              NaN           NaN  \n",
              "1              NaN              NaN           NaN  \n",
              "2              NaN              NaN           NaN  \n",
              "3              NaN              NaN           NaN  \n",
              "4              NaN              NaN           NaN  "
            ],
            "text/html": [
              "\n",
              "  <div id=\"df-de15fcd8-b879-446e-8493-3ed48d7f6b4e\">\n",
              "    <div class=\"colab-df-container\">\n",
              "      <div>\n",
              "<style scoped>\n",
              "    .dataframe tbody tr th:only-of-type {\n",
              "        vertical-align: middle;\n",
              "    }\n",
              "\n",
              "    .dataframe tbody tr th {\n",
              "        vertical-align: top;\n",
              "    }\n",
              "\n",
              "    .dataframe thead th {\n",
              "        text-align: right;\n",
              "    }\n",
              "</style>\n",
              "<table border=\"1\" class=\"dataframe\">\n",
              "  <thead>\n",
              "    <tr style=\"text-align: right;\">\n",
              "      <th></th>\n",
              "      <th>Store</th>\n",
              "      <th>DayOfWeek</th>\n",
              "      <th>Date</th>\n",
              "      <th>Sales</th>\n",
              "      <th>Customers</th>\n",
              "      <th>Open</th>\n",
              "      <th>Promo</th>\n",
              "      <th>StateHoliday</th>\n",
              "      <th>SchoolHoliday</th>\n",
              "      <th>StoreType</th>\n",
              "      <th>Assortment</th>\n",
              "      <th>CompetitionDistance</th>\n",
              "      <th>CompetitionOpenSinceMonth</th>\n",
              "      <th>CompetitionOpenSinceYear</th>\n",
              "      <th>Promo2</th>\n",
              "      <th>Promo2SinceWeek</th>\n",
              "      <th>Promo2SinceYear</th>\n",
              "      <th>PromoInterval</th>\n",
              "    </tr>\n",
              "  </thead>\n",
              "  <tbody>\n",
              "    <tr>\n",
              "      <th>0</th>\n",
              "      <td>1</td>\n",
              "      <td>5</td>\n",
              "      <td>2015-07-31</td>\n",
              "      <td>5263</td>\n",
              "      <td>555</td>\n",
              "      <td>1</td>\n",
              "      <td>1</td>\n",
              "      <td>0</td>\n",
              "      <td>1</td>\n",
              "      <td>c</td>\n",
              "      <td>a</td>\n",
              "      <td>1270.0</td>\n",
              "      <td>9.0</td>\n",
              "      <td>2008.0</td>\n",
              "      <td>0</td>\n",
              "      <td>NaN</td>\n",
              "      <td>NaN</td>\n",
              "      <td>NaN</td>\n",
              "    </tr>\n",
              "    <tr>\n",
              "      <th>1</th>\n",
              "      <td>1</td>\n",
              "      <td>4</td>\n",
              "      <td>2015-07-30</td>\n",
              "      <td>5020</td>\n",
              "      <td>546</td>\n",
              "      <td>1</td>\n",
              "      <td>1</td>\n",
              "      <td>0</td>\n",
              "      <td>1</td>\n",
              "      <td>c</td>\n",
              "      <td>a</td>\n",
              "      <td>1270.0</td>\n",
              "      <td>9.0</td>\n",
              "      <td>2008.0</td>\n",
              "      <td>0</td>\n",
              "      <td>NaN</td>\n",
              "      <td>NaN</td>\n",
              "      <td>NaN</td>\n",
              "    </tr>\n",
              "    <tr>\n",
              "      <th>2</th>\n",
              "      <td>1</td>\n",
              "      <td>3</td>\n",
              "      <td>2015-07-29</td>\n",
              "      <td>4782</td>\n",
              "      <td>523</td>\n",
              "      <td>1</td>\n",
              "      <td>1</td>\n",
              "      <td>0</td>\n",
              "      <td>1</td>\n",
              "      <td>c</td>\n",
              "      <td>a</td>\n",
              "      <td>1270.0</td>\n",
              "      <td>9.0</td>\n",
              "      <td>2008.0</td>\n",
              "      <td>0</td>\n",
              "      <td>NaN</td>\n",
              "      <td>NaN</td>\n",
              "      <td>NaN</td>\n",
              "    </tr>\n",
              "    <tr>\n",
              "      <th>3</th>\n",
              "      <td>1</td>\n",
              "      <td>2</td>\n",
              "      <td>2015-07-28</td>\n",
              "      <td>5011</td>\n",
              "      <td>560</td>\n",
              "      <td>1</td>\n",
              "      <td>1</td>\n",
              "      <td>0</td>\n",
              "      <td>1</td>\n",
              "      <td>c</td>\n",
              "      <td>a</td>\n",
              "      <td>1270.0</td>\n",
              "      <td>9.0</td>\n",
              "      <td>2008.0</td>\n",
              "      <td>0</td>\n",
              "      <td>NaN</td>\n",
              "      <td>NaN</td>\n",
              "      <td>NaN</td>\n",
              "    </tr>\n",
              "    <tr>\n",
              "      <th>4</th>\n",
              "      <td>1</td>\n",
              "      <td>1</td>\n",
              "      <td>2015-07-27</td>\n",
              "      <td>6102</td>\n",
              "      <td>612</td>\n",
              "      <td>1</td>\n",
              "      <td>1</td>\n",
              "      <td>0</td>\n",
              "      <td>1</td>\n",
              "      <td>c</td>\n",
              "      <td>a</td>\n",
              "      <td>1270.0</td>\n",
              "      <td>9.0</td>\n",
              "      <td>2008.0</td>\n",
              "      <td>0</td>\n",
              "      <td>NaN</td>\n",
              "      <td>NaN</td>\n",
              "      <td>NaN</td>\n",
              "    </tr>\n",
              "  </tbody>\n",
              "</table>\n",
              "</div>\n",
              "      <button class=\"colab-df-convert\" onclick=\"convertToInteractive('df-de15fcd8-b879-446e-8493-3ed48d7f6b4e')\"\n",
              "              title=\"Convert this dataframe to an interactive table.\"\n",
              "              style=\"display:none;\">\n",
              "        \n",
              "  <svg xmlns=\"http://www.w3.org/2000/svg\" height=\"24px\"viewBox=\"0 0 24 24\"\n",
              "       width=\"24px\">\n",
              "    <path d=\"M0 0h24v24H0V0z\" fill=\"none\"/>\n",
              "    <path d=\"M18.56 5.44l.94 2.06.94-2.06 2.06-.94-2.06-.94-.94-2.06-.94 2.06-2.06.94zm-11 1L8.5 8.5l.94-2.06 2.06-.94-2.06-.94L8.5 2.5l-.94 2.06-2.06.94zm10 10l.94 2.06.94-2.06 2.06-.94-2.06-.94-.94-2.06-.94 2.06-2.06.94z\"/><path d=\"M17.41 7.96l-1.37-1.37c-.4-.4-.92-.59-1.43-.59-.52 0-1.04.2-1.43.59L10.3 9.45l-7.72 7.72c-.78.78-.78 2.05 0 2.83L4 21.41c.39.39.9.59 1.41.59.51 0 1.02-.2 1.41-.59l7.78-7.78 2.81-2.81c.8-.78.8-2.07 0-2.86zM5.41 20L4 18.59l7.72-7.72 1.47 1.35L5.41 20z\"/>\n",
              "  </svg>\n",
              "      </button>\n",
              "      \n",
              "  <style>\n",
              "    .colab-df-container {\n",
              "      display:flex;\n",
              "      flex-wrap:wrap;\n",
              "      gap: 12px;\n",
              "    }\n",
              "\n",
              "    .colab-df-convert {\n",
              "      background-color: #E8F0FE;\n",
              "      border: none;\n",
              "      border-radius: 50%;\n",
              "      cursor: pointer;\n",
              "      display: none;\n",
              "      fill: #1967D2;\n",
              "      height: 32px;\n",
              "      padding: 0 0 0 0;\n",
              "      width: 32px;\n",
              "    }\n",
              "\n",
              "    .colab-df-convert:hover {\n",
              "      background-color: #E2EBFA;\n",
              "      box-shadow: 0px 1px 2px rgba(60, 64, 67, 0.3), 0px 1px 3px 1px rgba(60, 64, 67, 0.15);\n",
              "      fill: #174EA6;\n",
              "    }\n",
              "\n",
              "    [theme=dark] .colab-df-convert {\n",
              "      background-color: #3B4455;\n",
              "      fill: #D2E3FC;\n",
              "    }\n",
              "\n",
              "    [theme=dark] .colab-df-convert:hover {\n",
              "      background-color: #434B5C;\n",
              "      box-shadow: 0px 1px 3px 1px rgba(0, 0, 0, 0.15);\n",
              "      filter: drop-shadow(0px 1px 2px rgba(0, 0, 0, 0.3));\n",
              "      fill: #FFFFFF;\n",
              "    }\n",
              "  </style>\n",
              "\n",
              "      <script>\n",
              "        const buttonEl =\n",
              "          document.querySelector('#df-de15fcd8-b879-446e-8493-3ed48d7f6b4e button.colab-df-convert');\n",
              "        buttonEl.style.display =\n",
              "          google.colab.kernel.accessAllowed ? 'block' : 'none';\n",
              "\n",
              "        async function convertToInteractive(key) {\n",
              "          const element = document.querySelector('#df-de15fcd8-b879-446e-8493-3ed48d7f6b4e');\n",
              "          const dataTable =\n",
              "            await google.colab.kernel.invokeFunction('convertToInteractive',\n",
              "                                                     [key], {});\n",
              "          if (!dataTable) return;\n",
              "\n",
              "          const docLinkHtml = 'Like what you see? Visit the ' +\n",
              "            '<a target=\"_blank\" href=https://colab.research.google.com/notebooks/data_table.ipynb>data table notebook</a>'\n",
              "            + ' to learn more about interactive tables.';\n",
              "          element.innerHTML = '';\n",
              "          dataTable['output_type'] = 'display_data';\n",
              "          await google.colab.output.renderOutput(dataTable, element);\n",
              "          const docLink = document.createElement('div');\n",
              "          docLink.innerHTML = docLinkHtml;\n",
              "          element.appendChild(docLink);\n",
              "        }\n",
              "      </script>\n",
              "    </div>\n",
              "  </div>\n",
              "  "
            ]
          },
          "metadata": {},
          "execution_count": 12
        }
      ],
      "source": [
        "merged_data = pd.merge(df1,df2,on='Store')\n",
        "merged_data.head(5)"
      ]
    },
    {
      "cell_type": "code",
      "execution_count": null,
      "metadata": {
        "colab": {
          "base_uri": "https://localhost:8080/"
        },
        "id": "J9wzBu6iemFe",
        "outputId": "8c36fe2a-222f-4a51-daee-89373d6e5627"
      },
      "outputs": [
        {
          "output_type": "execute_result",
          "data": {
            "text/plain": [
              "<bound method DataFrame.info of          Store  DayOfWeek        Date  Sales  Customers  Open  Promo  \\\n",
              "0            1          5  2015-07-31   5263        555     1      1   \n",
              "1            1          4  2015-07-30   5020        546     1      1   \n",
              "2            1          3  2015-07-29   4782        523     1      1   \n",
              "3            1          2  2015-07-28   5011        560     1      1   \n",
              "4            1          1  2015-07-27   6102        612     1      1   \n",
              "...        ...        ...         ...    ...        ...   ...    ...   \n",
              "1017204   1115          6  2013-01-05   4771        339     1      0   \n",
              "1017205   1115          5  2013-01-04   4540        326     1      0   \n",
              "1017206   1115          4  2013-01-03   4297        300     1      0   \n",
              "1017207   1115          3  2013-01-02   3697        305     1      0   \n",
              "1017208   1115          2  2013-01-01      0          0     0      0   \n",
              "\n",
              "        StateHoliday  SchoolHoliday StoreType Assortment  CompetitionDistance  \\\n",
              "0                  0              1         c          a               1270.0   \n",
              "1                  0              1         c          a               1270.0   \n",
              "2                  0              1         c          a               1270.0   \n",
              "3                  0              1         c          a               1270.0   \n",
              "4                  0              1         c          a               1270.0   \n",
              "...              ...            ...       ...        ...                  ...   \n",
              "1017204            0              1         d          c               5350.0   \n",
              "1017205            0              1         d          c               5350.0   \n",
              "1017206            0              1         d          c               5350.0   \n",
              "1017207            0              1         d          c               5350.0   \n",
              "1017208            a              1         d          c               5350.0   \n",
              "\n",
              "         CompetitionOpenSinceMonth  CompetitionOpenSinceYear  Promo2  \\\n",
              "0                              9.0                    2008.0       0   \n",
              "1                              9.0                    2008.0       0   \n",
              "2                              9.0                    2008.0       0   \n",
              "3                              9.0                    2008.0       0   \n",
              "4                              9.0                    2008.0       0   \n",
              "...                            ...                       ...     ...   \n",
              "1017204                        NaN                       NaN       1   \n",
              "1017205                        NaN                       NaN       1   \n",
              "1017206                        NaN                       NaN       1   \n",
              "1017207                        NaN                       NaN       1   \n",
              "1017208                        NaN                       NaN       1   \n",
              "\n",
              "         Promo2SinceWeek  Promo2SinceYear     PromoInterval  \n",
              "0                    NaN              NaN               NaN  \n",
              "1                    NaN              NaN               NaN  \n",
              "2                    NaN              NaN               NaN  \n",
              "3                    NaN              NaN               NaN  \n",
              "4                    NaN              NaN               NaN  \n",
              "...                  ...              ...               ...  \n",
              "1017204             22.0           2012.0  Mar,Jun,Sept,Dec  \n",
              "1017205             22.0           2012.0  Mar,Jun,Sept,Dec  \n",
              "1017206             22.0           2012.0  Mar,Jun,Sept,Dec  \n",
              "1017207             22.0           2012.0  Mar,Jun,Sept,Dec  \n",
              "1017208             22.0           2012.0  Mar,Jun,Sept,Dec  \n",
              "\n",
              "[1017209 rows x 18 columns]>"
            ]
          },
          "metadata": {},
          "execution_count": 13
        }
      ],
      "source": [
        "merged_data.info"
      ]
    },
    {
      "cell_type": "markdown",
      "metadata": {
        "id": "bR2Ip7azEiWL"
      },
      "source": [
        "# **2. Null Values Operation**"
      ]
    },
    {
      "cell_type": "markdown",
      "metadata": {
        "id": "ZUzWv9uFFhJf"
      },
      "source": [
        "## 2.1 Counting the null values in each dataset."
      ]
    },
    {
      "cell_type": "code",
      "execution_count": null,
      "metadata": {
        "colab": {
          "base_uri": "https://localhost:8080/"
        },
        "id": "g7-MJStkE-MG",
        "outputId": "810a3960-ef6b-44c0-afb6-9d84d3bf3c46"
      },
      "outputs": [
        {
          "output_type": "execute_result",
          "data": {
            "text/plain": [
              "Store            0\n",
              "DayOfWeek        0\n",
              "Date             0\n",
              "Sales            0\n",
              "Customers        0\n",
              "Open             0\n",
              "Promo            0\n",
              "StateHoliday     0\n",
              "SchoolHoliday    0\n",
              "dtype: int64"
            ]
          },
          "metadata": {},
          "execution_count": 14
        }
      ],
      "source": [
        "df1.isnull().sum()"
      ]
    },
    {
      "cell_type": "code",
      "execution_count": null,
      "metadata": {
        "colab": {
          "base_uri": "https://localhost:8080/"
        },
        "id": "Z9HW7pfMFPED",
        "outputId": "6d8e2c87-4a0d-4d08-f125-0ea4e9427586"
      },
      "outputs": [
        {
          "output_type": "execute_result",
          "data": {
            "text/plain": [
              "Store                          0\n",
              "StoreType                      0\n",
              "Assortment                     0\n",
              "CompetitionDistance            3\n",
              "CompetitionOpenSinceMonth    354\n",
              "CompetitionOpenSinceYear     354\n",
              "Promo2                         0\n",
              "Promo2SinceWeek              544\n",
              "Promo2SinceYear              544\n",
              "PromoInterval                544\n",
              "dtype: int64"
            ]
          },
          "metadata": {},
          "execution_count": 15
        }
      ],
      "source": [
        "df2.isnull().sum()"
      ]
    },
    {
      "cell_type": "markdown",
      "metadata": {
        "id": "s6G32VqQFaAb"
      },
      "source": [
        "Here we can see that only df2 have missing values so we fill them with appropriate value."
      ]
    },
    {
      "cell_type": "code",
      "execution_count": null,
      "metadata": {
        "id": "Lxz1nw1Ko4DI"
      },
      "outputs": [],
      "source": [
        "# Filling Promo2SinceWeek, Promo2SinceYear, PromoInterval with 0\n",
        "df2.update(df2['Promo2SinceWeek'].fillna(value=0,inplace=True))\n",
        "df2.update(df2['Promo2SinceYear'].fillna(value=0,inplace=True))\n",
        "df2.update(df2['PromoInterval'].fillna(value=0,inplace=True))"
      ]
    },
    {
      "cell_type": "code",
      "execution_count": null,
      "metadata": {
        "id": "s4C_KAnfpO1F"
      },
      "outputs": [],
      "source": [
        "# Filling CompetitionDistance with mean distance\n",
        "mean_CompetitionDistance = df2['CompetitionDistance'].mean()\n",
        "df2.update(df2['CompetitionDistance'].fillna(value=mean_CompetitionDistance,inplace=True))"
      ]
    },
    {
      "cell_type": "code",
      "execution_count": null,
      "metadata": {
        "id": "sdEXRRKBpfjj"
      },
      "outputs": [],
      "source": [
        "# Filling CompetitionOpenSinceMonth, CompetitionOpenSinceYear with most occuring month and year respectively\n",
        "mode_CompetitionOpenSinceMonth = df2['CompetitionOpenSinceMonth'].mode()[0]\n",
        "mode_CompetitionOpenSinceYear = df2['CompetitionOpenSinceYear'].mode()[0]\n",
        "\n",
        "df2.update(df2['CompetitionOpenSinceMonth'].fillna(value=mode_CompetitionOpenSinceMonth,inplace=True))\n",
        "df2.update(df2['CompetitionOpenSinceYear'].fillna(value=mode_CompetitionOpenSinceYear,inplace=True))\n"
      ]
    },
    {
      "cell_type": "code",
      "execution_count": null,
      "metadata": {
        "colab": {
          "base_uri": "https://localhost:8080/"
        },
        "id": "iVgABUn0pttb",
        "outputId": "2c97219e-9c72-4343-bdef-0aaa282fb24a"
      },
      "outputs": [
        {
          "output_type": "execute_result",
          "data": {
            "text/plain": [
              "Store                        0\n",
              "StoreType                    0\n",
              "Assortment                   0\n",
              "CompetitionDistance          0\n",
              "CompetitionOpenSinceMonth    0\n",
              "CompetitionOpenSinceYear     0\n",
              "Promo2                       0\n",
              "Promo2SinceWeek              0\n",
              "Promo2SinceYear              0\n",
              "PromoInterval                0\n",
              "dtype: int64"
            ]
          },
          "metadata": {},
          "execution_count": 19
        }
      ],
      "source": [
        "df2.isnull().sum()"
      ]
    },
    {
      "cell_type": "code",
      "execution_count": null,
      "metadata": {
        "colab": {
          "base_uri": "https://localhost:8080/",
          "height": 374
        },
        "id": "iP_Sf2Vop9D3",
        "outputId": "daff16df-abd2-43f2-b996-9ee3aa75ffdb"
      },
      "outputs": [
        {
          "output_type": "stream",
          "name": "stdout",
          "text": [
            "(1017209, 18)\n"
          ]
        },
        {
          "output_type": "execute_result",
          "data": {
            "text/plain": [
              "   Store  DayOfWeek        Date  Sales  Customers  Open  Promo StateHoliday  \\\n",
              "0      1          5  2015-07-31   5263        555     1      1            0   \n",
              "1      1          4  2015-07-30   5020        546     1      1            0   \n",
              "2      1          3  2015-07-29   4782        523     1      1            0   \n",
              "3      1          2  2015-07-28   5011        560     1      1            0   \n",
              "4      1          1  2015-07-27   6102        612     1      1            0   \n",
              "\n",
              "   SchoolHoliday StoreType Assortment  CompetitionDistance  \\\n",
              "0              1         c          a               1270.0   \n",
              "1              1         c          a               1270.0   \n",
              "2              1         c          a               1270.0   \n",
              "3              1         c          a               1270.0   \n",
              "4              1         c          a               1270.0   \n",
              "\n",
              "   CompetitionOpenSinceMonth  CompetitionOpenSinceYear  Promo2  \\\n",
              "0                        9.0                    2008.0       0   \n",
              "1                        9.0                    2008.0       0   \n",
              "2                        9.0                    2008.0       0   \n",
              "3                        9.0                    2008.0       0   \n",
              "4                        9.0                    2008.0       0   \n",
              "\n",
              "   Promo2SinceWeek  Promo2SinceYear PromoInterval  \n",
              "0              0.0              0.0             0  \n",
              "1              0.0              0.0             0  \n",
              "2              0.0              0.0             0  \n",
              "3              0.0              0.0             0  \n",
              "4              0.0              0.0             0  "
            ],
            "text/html": [
              "\n",
              "  <div id=\"df-a1134a3a-4678-4657-a247-c355fb5fa77a\">\n",
              "    <div class=\"colab-df-container\">\n",
              "      <div>\n",
              "<style scoped>\n",
              "    .dataframe tbody tr th:only-of-type {\n",
              "        vertical-align: middle;\n",
              "    }\n",
              "\n",
              "    .dataframe tbody tr th {\n",
              "        vertical-align: top;\n",
              "    }\n",
              "\n",
              "    .dataframe thead th {\n",
              "        text-align: right;\n",
              "    }\n",
              "</style>\n",
              "<table border=\"1\" class=\"dataframe\">\n",
              "  <thead>\n",
              "    <tr style=\"text-align: right;\">\n",
              "      <th></th>\n",
              "      <th>Store</th>\n",
              "      <th>DayOfWeek</th>\n",
              "      <th>Date</th>\n",
              "      <th>Sales</th>\n",
              "      <th>Customers</th>\n",
              "      <th>Open</th>\n",
              "      <th>Promo</th>\n",
              "      <th>StateHoliday</th>\n",
              "      <th>SchoolHoliday</th>\n",
              "      <th>StoreType</th>\n",
              "      <th>Assortment</th>\n",
              "      <th>CompetitionDistance</th>\n",
              "      <th>CompetitionOpenSinceMonth</th>\n",
              "      <th>CompetitionOpenSinceYear</th>\n",
              "      <th>Promo2</th>\n",
              "      <th>Promo2SinceWeek</th>\n",
              "      <th>Promo2SinceYear</th>\n",
              "      <th>PromoInterval</th>\n",
              "    </tr>\n",
              "  </thead>\n",
              "  <tbody>\n",
              "    <tr>\n",
              "      <th>0</th>\n",
              "      <td>1</td>\n",
              "      <td>5</td>\n",
              "      <td>2015-07-31</td>\n",
              "      <td>5263</td>\n",
              "      <td>555</td>\n",
              "      <td>1</td>\n",
              "      <td>1</td>\n",
              "      <td>0</td>\n",
              "      <td>1</td>\n",
              "      <td>c</td>\n",
              "      <td>a</td>\n",
              "      <td>1270.0</td>\n",
              "      <td>9.0</td>\n",
              "      <td>2008.0</td>\n",
              "      <td>0</td>\n",
              "      <td>0.0</td>\n",
              "      <td>0.0</td>\n",
              "      <td>0</td>\n",
              "    </tr>\n",
              "    <tr>\n",
              "      <th>1</th>\n",
              "      <td>1</td>\n",
              "      <td>4</td>\n",
              "      <td>2015-07-30</td>\n",
              "      <td>5020</td>\n",
              "      <td>546</td>\n",
              "      <td>1</td>\n",
              "      <td>1</td>\n",
              "      <td>0</td>\n",
              "      <td>1</td>\n",
              "      <td>c</td>\n",
              "      <td>a</td>\n",
              "      <td>1270.0</td>\n",
              "      <td>9.0</td>\n",
              "      <td>2008.0</td>\n",
              "      <td>0</td>\n",
              "      <td>0.0</td>\n",
              "      <td>0.0</td>\n",
              "      <td>0</td>\n",
              "    </tr>\n",
              "    <tr>\n",
              "      <th>2</th>\n",
              "      <td>1</td>\n",
              "      <td>3</td>\n",
              "      <td>2015-07-29</td>\n",
              "      <td>4782</td>\n",
              "      <td>523</td>\n",
              "      <td>1</td>\n",
              "      <td>1</td>\n",
              "      <td>0</td>\n",
              "      <td>1</td>\n",
              "      <td>c</td>\n",
              "      <td>a</td>\n",
              "      <td>1270.0</td>\n",
              "      <td>9.0</td>\n",
              "      <td>2008.0</td>\n",
              "      <td>0</td>\n",
              "      <td>0.0</td>\n",
              "      <td>0.0</td>\n",
              "      <td>0</td>\n",
              "    </tr>\n",
              "    <tr>\n",
              "      <th>3</th>\n",
              "      <td>1</td>\n",
              "      <td>2</td>\n",
              "      <td>2015-07-28</td>\n",
              "      <td>5011</td>\n",
              "      <td>560</td>\n",
              "      <td>1</td>\n",
              "      <td>1</td>\n",
              "      <td>0</td>\n",
              "      <td>1</td>\n",
              "      <td>c</td>\n",
              "      <td>a</td>\n",
              "      <td>1270.0</td>\n",
              "      <td>9.0</td>\n",
              "      <td>2008.0</td>\n",
              "      <td>0</td>\n",
              "      <td>0.0</td>\n",
              "      <td>0.0</td>\n",
              "      <td>0</td>\n",
              "    </tr>\n",
              "    <tr>\n",
              "      <th>4</th>\n",
              "      <td>1</td>\n",
              "      <td>1</td>\n",
              "      <td>2015-07-27</td>\n",
              "      <td>6102</td>\n",
              "      <td>612</td>\n",
              "      <td>1</td>\n",
              "      <td>1</td>\n",
              "      <td>0</td>\n",
              "      <td>1</td>\n",
              "      <td>c</td>\n",
              "      <td>a</td>\n",
              "      <td>1270.0</td>\n",
              "      <td>9.0</td>\n",
              "      <td>2008.0</td>\n",
              "      <td>0</td>\n",
              "      <td>0.0</td>\n",
              "      <td>0.0</td>\n",
              "      <td>0</td>\n",
              "    </tr>\n",
              "  </tbody>\n",
              "</table>\n",
              "</div>\n",
              "      <button class=\"colab-df-convert\" onclick=\"convertToInteractive('df-a1134a3a-4678-4657-a247-c355fb5fa77a')\"\n",
              "              title=\"Convert this dataframe to an interactive table.\"\n",
              "              style=\"display:none;\">\n",
              "        \n",
              "  <svg xmlns=\"http://www.w3.org/2000/svg\" height=\"24px\"viewBox=\"0 0 24 24\"\n",
              "       width=\"24px\">\n",
              "    <path d=\"M0 0h24v24H0V0z\" fill=\"none\"/>\n",
              "    <path d=\"M18.56 5.44l.94 2.06.94-2.06 2.06-.94-2.06-.94-.94-2.06-.94 2.06-2.06.94zm-11 1L8.5 8.5l.94-2.06 2.06-.94-2.06-.94L8.5 2.5l-.94 2.06-2.06.94zm10 10l.94 2.06.94-2.06 2.06-.94-2.06-.94-.94-2.06-.94 2.06-2.06.94z\"/><path d=\"M17.41 7.96l-1.37-1.37c-.4-.4-.92-.59-1.43-.59-.52 0-1.04.2-1.43.59L10.3 9.45l-7.72 7.72c-.78.78-.78 2.05 0 2.83L4 21.41c.39.39.9.59 1.41.59.51 0 1.02-.2 1.41-.59l7.78-7.78 2.81-2.81c.8-.78.8-2.07 0-2.86zM5.41 20L4 18.59l7.72-7.72 1.47 1.35L5.41 20z\"/>\n",
              "  </svg>\n",
              "      </button>\n",
              "      \n",
              "  <style>\n",
              "    .colab-df-container {\n",
              "      display:flex;\n",
              "      flex-wrap:wrap;\n",
              "      gap: 12px;\n",
              "    }\n",
              "\n",
              "    .colab-df-convert {\n",
              "      background-color: #E8F0FE;\n",
              "      border: none;\n",
              "      border-radius: 50%;\n",
              "      cursor: pointer;\n",
              "      display: none;\n",
              "      fill: #1967D2;\n",
              "      height: 32px;\n",
              "      padding: 0 0 0 0;\n",
              "      width: 32px;\n",
              "    }\n",
              "\n",
              "    .colab-df-convert:hover {\n",
              "      background-color: #E2EBFA;\n",
              "      box-shadow: 0px 1px 2px rgba(60, 64, 67, 0.3), 0px 1px 3px 1px rgba(60, 64, 67, 0.15);\n",
              "      fill: #174EA6;\n",
              "    }\n",
              "\n",
              "    [theme=dark] .colab-df-convert {\n",
              "      background-color: #3B4455;\n",
              "      fill: #D2E3FC;\n",
              "    }\n",
              "\n",
              "    [theme=dark] .colab-df-convert:hover {\n",
              "      background-color: #434B5C;\n",
              "      box-shadow: 0px 1px 3px 1px rgba(0, 0, 0, 0.15);\n",
              "      filter: drop-shadow(0px 1px 2px rgba(0, 0, 0, 0.3));\n",
              "      fill: #FFFFFF;\n",
              "    }\n",
              "  </style>\n",
              "\n",
              "      <script>\n",
              "        const buttonEl =\n",
              "          document.querySelector('#df-a1134a3a-4678-4657-a247-c355fb5fa77a button.colab-df-convert');\n",
              "        buttonEl.style.display =\n",
              "          google.colab.kernel.accessAllowed ? 'block' : 'none';\n",
              "\n",
              "        async function convertToInteractive(key) {\n",
              "          const element = document.querySelector('#df-a1134a3a-4678-4657-a247-c355fb5fa77a');\n",
              "          const dataTable =\n",
              "            await google.colab.kernel.invokeFunction('convertToInteractive',\n",
              "                                                     [key], {});\n",
              "          if (!dataTable) return;\n",
              "\n",
              "          const docLinkHtml = 'Like what you see? Visit the ' +\n",
              "            '<a target=\"_blank\" href=https://colab.research.google.com/notebooks/data_table.ipynb>data table notebook</a>'\n",
              "            + ' to learn more about interactive tables.';\n",
              "          element.innerHTML = '';\n",
              "          dataTable['output_type'] = 'display_data';\n",
              "          await google.colab.output.renderOutput(dataTable, element);\n",
              "          const docLink = document.createElement('div');\n",
              "          docLink.innerHTML = docLinkHtml;\n",
              "          element.appendChild(docLink);\n",
              "        }\n",
              "      </script>\n",
              "    </div>\n",
              "  </div>\n",
              "  "
            ]
          },
          "metadata": {},
          "execution_count": 20
        }
      ],
      "source": [
        "merged_data = pd.merge(df1,df2,on='Store')\n",
        "print(merged_data.shape)\n",
        "merged_data.head(5)"
      ]
    },
    {
      "cell_type": "code",
      "execution_count": null,
      "metadata": {
        "colab": {
          "base_uri": "https://localhost:8080/"
        },
        "id": "Ro8j_iwgq3ew",
        "outputId": "84e70777-c97b-4176-b595-693d2b5df01d"
      },
      "outputs": [
        {
          "output_type": "execute_result",
          "data": {
            "text/plain": [
              "Store                        0.0\n",
              "DayOfWeek                    0.0\n",
              "Date                         0.0\n",
              "Sales                        0.0\n",
              "Customers                    0.0\n",
              "Open                         0.0\n",
              "Promo                        0.0\n",
              "StateHoliday                 0.0\n",
              "SchoolHoliday                0.0\n",
              "StoreType                    0.0\n",
              "Assortment                   0.0\n",
              "CompetitionDistance          0.0\n",
              "CompetitionOpenSinceMonth    0.0\n",
              "CompetitionOpenSinceYear     0.0\n",
              "Promo2                       0.0\n",
              "Promo2SinceWeek              0.0\n",
              "Promo2SinceYear              0.0\n",
              "PromoInterval                0.0\n",
              "dtype: float64"
            ]
          },
          "metadata": {},
          "execution_count": 21
        }
      ],
      "source": [
        "merged_data.isnull().mean()*100"
      ]
    },
    {
      "cell_type": "markdown",
      "metadata": {
        "id": "Oqni4aLJrs4L"
      },
      "source": [
        "**Great ! We don't have any null values, we can proceed further.**"
      ]
    },
    {
      "cell_type": "markdown",
      "metadata": {
        "id": "sULoVDU70WJ1"
      },
      "source": [
        "# **3**. **Exploratory Data Analysis**"
      ]
    },
    {
      "cell_type": "code",
      "execution_count": null,
      "metadata": {
        "colab": {
          "base_uri": "https://localhost:8080/"
        },
        "id": "WmrenbMdcy0H",
        "outputId": "4419cadb-fc5c-4226-d41d-3b6413f2af0b"
      },
      "outputs": [
        {
          "output_type": "execute_result",
          "data": {
            "text/plain": [
              "array(['2015-07-31', '2015-07-30', '2015-07-29', '2015-07-28',\n",
              "       '2015-07-27', '2015-07-26', '2015-07-25', '2015-07-24',\n",
              "       '2015-07-23', '2015-07-22', '2015-07-21', '2015-07-20',\n",
              "       '2015-07-19', '2015-07-18', '2015-07-17', '2015-07-16',\n",
              "       '2015-07-15', '2015-07-14', '2015-07-13', '2015-07-12',\n",
              "       '2015-07-11', '2015-07-10', '2015-07-09', '2015-07-08',\n",
              "       '2015-07-07', '2015-07-06', '2015-07-05', '2015-07-04',\n",
              "       '2015-07-03', '2015-07-02', '2015-07-01', '2015-06-30',\n",
              "       '2015-06-29', '2015-06-28', '2015-06-27', '2015-06-26',\n",
              "       '2015-06-25', '2015-06-24', '2015-06-23', '2015-06-22',\n",
              "       '2015-06-21', '2015-06-20', '2015-06-19', '2015-06-18',\n",
              "       '2015-06-17', '2015-06-16', '2015-06-15', '2015-06-14',\n",
              "       '2015-06-13', '2015-06-12', '2015-06-11', '2015-06-10',\n",
              "       '2015-06-09', '2015-06-08', '2015-06-07', '2015-06-06',\n",
              "       '2015-06-05', '2015-06-04', '2015-06-03', '2015-06-02',\n",
              "       '2015-06-01', '2015-05-31', '2015-05-30', '2015-05-29',\n",
              "       '2015-05-28', '2015-05-27', '2015-05-26', '2015-05-25',\n",
              "       '2015-05-24', '2015-05-23', '2015-05-22', '2015-05-21',\n",
              "       '2015-05-20', '2015-05-19', '2015-05-18', '2015-05-17',\n",
              "       '2015-05-16', '2015-05-15', '2015-05-14', '2015-05-13',\n",
              "       '2015-05-12', '2015-05-11', '2015-05-10', '2015-05-09',\n",
              "       '2015-05-08', '2015-05-07', '2015-05-06', '2015-05-05',\n",
              "       '2015-05-04', '2015-05-03', '2015-05-02', '2015-05-01',\n",
              "       '2015-04-30', '2015-04-29', '2015-04-28', '2015-04-27',\n",
              "       '2015-04-26', '2015-04-25', '2015-04-24', '2015-04-23',\n",
              "       '2015-04-22', '2015-04-21', '2015-04-20', '2015-04-19',\n",
              "       '2015-04-18', '2015-04-17', '2015-04-16', '2015-04-15',\n",
              "       '2015-04-14', '2015-04-13', '2015-04-12', '2015-04-11',\n",
              "       '2015-04-10', '2015-04-09', '2015-04-08', '2015-04-07',\n",
              "       '2015-04-06', '2015-04-05', '2015-04-04', '2015-04-03',\n",
              "       '2015-04-02', '2015-04-01', '2015-03-31', '2015-03-30',\n",
              "       '2015-03-29', '2015-03-28', '2015-03-27', '2015-03-26',\n",
              "       '2015-03-25', '2015-03-24', '2015-03-23', '2015-03-22',\n",
              "       '2015-03-21', '2015-03-20', '2015-03-19', '2015-03-18',\n",
              "       '2015-03-17', '2015-03-16', '2015-03-15', '2015-03-14',\n",
              "       '2015-03-13', '2015-03-12', '2015-03-11', '2015-03-10',\n",
              "       '2015-03-09', '2015-03-08', '2015-03-07', '2015-03-06',\n",
              "       '2015-03-05', '2015-03-04', '2015-03-03', '2015-03-02',\n",
              "       '2015-03-01', '2015-02-28', '2015-02-27', '2015-02-26',\n",
              "       '2015-02-25', '2015-02-24', '2015-02-23', '2015-02-22',\n",
              "       '2015-02-21', '2015-02-20', '2015-02-19', '2015-02-18',\n",
              "       '2015-02-17', '2015-02-16', '2015-02-15', '2015-02-14',\n",
              "       '2015-02-13', '2015-02-12', '2015-02-11', '2015-02-10',\n",
              "       '2015-02-09', '2015-02-08', '2015-02-07', '2015-02-06',\n",
              "       '2015-02-05', '2015-02-04', '2015-02-03', '2015-02-02',\n",
              "       '2015-02-01', '2015-01-31', '2015-01-30', '2015-01-29',\n",
              "       '2015-01-28', '2015-01-27', '2015-01-26', '2015-01-25',\n",
              "       '2015-01-24', '2015-01-23', '2015-01-22', '2015-01-21',\n",
              "       '2015-01-20', '2015-01-19', '2015-01-18', '2015-01-17',\n",
              "       '2015-01-16', '2015-01-15', '2015-01-14', '2015-01-13',\n",
              "       '2015-01-12', '2015-01-11', '2015-01-10', '2015-01-09',\n",
              "       '2015-01-08', '2015-01-07', '2015-01-06', '2015-01-05',\n",
              "       '2015-01-04', '2015-01-03', '2015-01-02', '2015-01-01',\n",
              "       '2014-12-31', '2014-12-30', '2014-12-29', '2014-12-28',\n",
              "       '2014-12-27', '2014-12-26', '2014-12-25', '2014-12-24',\n",
              "       '2014-12-23', '2014-12-22', '2014-12-21', '2014-12-20',\n",
              "       '2014-12-19', '2014-12-18', '2014-12-17', '2014-12-16',\n",
              "       '2014-12-15', '2014-12-14', '2014-12-13', '2014-12-12',\n",
              "       '2014-12-11', '2014-12-10', '2014-12-09', '2014-12-08',\n",
              "       '2014-12-07', '2014-12-06', '2014-12-05', '2014-12-04',\n",
              "       '2014-12-03', '2014-12-02', '2014-12-01', '2014-11-30',\n",
              "       '2014-11-29', '2014-11-28', '2014-11-27', '2014-11-26',\n",
              "       '2014-11-25', '2014-11-24', '2014-11-23', '2014-11-22',\n",
              "       '2014-11-21', '2014-11-20', '2014-11-19', '2014-11-18',\n",
              "       '2014-11-17', '2014-11-16', '2014-11-15', '2014-11-14',\n",
              "       '2014-11-13', '2014-11-12', '2014-11-11', '2014-11-10',\n",
              "       '2014-11-09', '2014-11-08', '2014-11-07', '2014-11-06',\n",
              "       '2014-11-05', '2014-11-04', '2014-11-03', '2014-11-02',\n",
              "       '2014-11-01', '2014-10-31', '2014-10-30', '2014-10-29',\n",
              "       '2014-10-28', '2014-10-27', '2014-10-26', '2014-10-25',\n",
              "       '2014-10-24', '2014-10-23', '2014-10-22', '2014-10-21',\n",
              "       '2014-10-20', '2014-10-19', '2014-10-18', '2014-10-17',\n",
              "       '2014-10-16', '2014-10-15', '2014-10-14', '2014-10-13',\n",
              "       '2014-10-12', '2014-10-11', '2014-10-10', '2014-10-09',\n",
              "       '2014-10-08', '2014-10-07', '2014-10-06', '2014-10-05',\n",
              "       '2014-10-04', '2014-10-03', '2014-10-02', '2014-10-01',\n",
              "       '2014-09-30', '2014-09-29', '2014-09-28', '2014-09-27',\n",
              "       '2014-09-26', '2014-09-25', '2014-09-24', '2014-09-23',\n",
              "       '2014-09-22', '2014-09-21', '2014-09-20', '2014-09-19',\n",
              "       '2014-09-18', '2014-09-17', '2014-09-16', '2014-09-15',\n",
              "       '2014-09-14', '2014-09-13', '2014-09-12', '2014-09-11',\n",
              "       '2014-09-10', '2014-09-09', '2014-09-08', '2014-09-07',\n",
              "       '2014-09-06', '2014-09-05', '2014-09-04', '2014-09-03',\n",
              "       '2014-09-02', '2014-09-01', '2014-08-31', '2014-08-30',\n",
              "       '2014-08-29', '2014-08-28', '2014-08-27', '2014-08-26',\n",
              "       '2014-08-25', '2014-08-24', '2014-08-23', '2014-08-22',\n",
              "       '2014-08-21', '2014-08-20', '2014-08-19', '2014-08-18',\n",
              "       '2014-08-17', '2014-08-16', '2014-08-15', '2014-08-14',\n",
              "       '2014-08-13', '2014-08-12', '2014-08-11', '2014-08-10',\n",
              "       '2014-08-09', '2014-08-08', '2014-08-07', '2014-08-06',\n",
              "       '2014-08-05', '2014-08-04', '2014-08-03', '2014-08-02',\n",
              "       '2014-08-01', '2014-07-31', '2014-07-30', '2014-07-29',\n",
              "       '2014-07-28', '2014-07-27', '2014-07-26', '2014-07-25',\n",
              "       '2014-07-24', '2014-07-23', '2014-07-22', '2014-07-21',\n",
              "       '2014-07-20', '2014-07-19', '2014-07-18', '2014-07-17',\n",
              "       '2014-07-16', '2014-07-15', '2014-07-14', '2014-07-13',\n",
              "       '2014-07-12', '2014-07-11', '2014-07-10', '2014-07-09',\n",
              "       '2014-07-08', '2014-07-07', '2014-07-06', '2014-07-05',\n",
              "       '2014-07-04', '2014-07-03', '2014-07-02', '2014-07-01',\n",
              "       '2014-06-30', '2014-06-29', '2014-06-28', '2014-06-27',\n",
              "       '2014-06-26', '2014-06-25', '2014-06-24', '2014-06-23',\n",
              "       '2014-06-22', '2014-06-21', '2014-06-20', '2014-06-19',\n",
              "       '2014-06-18', '2014-06-17', '2014-06-16', '2014-06-15',\n",
              "       '2014-06-14', '2014-06-13', '2014-06-12', '2014-06-11',\n",
              "       '2014-06-10', '2014-06-09', '2014-06-08', '2014-06-07',\n",
              "       '2014-06-06', '2014-06-05', '2014-06-04', '2014-06-03',\n",
              "       '2014-06-02', '2014-06-01', '2014-05-31', '2014-05-30',\n",
              "       '2014-05-29', '2014-05-28', '2014-05-27', '2014-05-26',\n",
              "       '2014-05-25', '2014-05-24', '2014-05-23', '2014-05-22',\n",
              "       '2014-05-21', '2014-05-20', '2014-05-19', '2014-05-18',\n",
              "       '2014-05-17', '2014-05-16', '2014-05-15', '2014-05-14',\n",
              "       '2014-05-13', '2014-05-12', '2014-05-11', '2014-05-10',\n",
              "       '2014-05-09', '2014-05-08', '2014-05-07', '2014-05-06',\n",
              "       '2014-05-05', '2014-05-04', '2014-05-03', '2014-05-02',\n",
              "       '2014-05-01', '2014-04-30', '2014-04-29', '2014-04-28',\n",
              "       '2014-04-27', '2014-04-26', '2014-04-25', '2014-04-24',\n",
              "       '2014-04-23', '2014-04-22', '2014-04-21', '2014-04-20',\n",
              "       '2014-04-19', '2014-04-18', '2014-04-17', '2014-04-16',\n",
              "       '2014-04-15', '2014-04-14', '2014-04-13', '2014-04-12',\n",
              "       '2014-04-11', '2014-04-10', '2014-04-09', '2014-04-08',\n",
              "       '2014-04-07', '2014-04-06', '2014-04-05', '2014-04-04',\n",
              "       '2014-04-03', '2014-04-02', '2014-04-01', '2014-03-31',\n",
              "       '2014-03-30', '2014-03-29', '2014-03-28', '2014-03-27',\n",
              "       '2014-03-26', '2014-03-25', '2014-03-24', '2014-03-23',\n",
              "       '2014-03-22', '2014-03-21', '2014-03-20', '2014-03-19',\n",
              "       '2014-03-18', '2014-03-17', '2014-03-16', '2014-03-15',\n",
              "       '2014-03-14', '2014-03-13', '2014-03-12', '2014-03-11',\n",
              "       '2014-03-10', '2014-03-09', '2014-03-08', '2014-03-07',\n",
              "       '2014-03-06', '2014-03-05', '2014-03-04', '2014-03-03',\n",
              "       '2014-03-02', '2014-03-01', '2014-02-28', '2014-02-27',\n",
              "       '2014-02-26', '2014-02-25', '2014-02-24', '2014-02-23',\n",
              "       '2014-02-22', '2014-02-21', '2014-02-20', '2014-02-19',\n",
              "       '2014-02-18', '2014-02-17', '2014-02-16', '2014-02-15',\n",
              "       '2014-02-14', '2014-02-13', '2014-02-12', '2014-02-11',\n",
              "       '2014-02-10', '2014-02-09', '2014-02-08', '2014-02-07',\n",
              "       '2014-02-06', '2014-02-05', '2014-02-04', '2014-02-03',\n",
              "       '2014-02-02', '2014-02-01', '2014-01-31', '2014-01-30',\n",
              "       '2014-01-29', '2014-01-28', '2014-01-27', '2014-01-26',\n",
              "       '2014-01-25', '2014-01-24', '2014-01-23', '2014-01-22',\n",
              "       '2014-01-21', '2014-01-20', '2014-01-19', '2014-01-18',\n",
              "       '2014-01-17', '2014-01-16', '2014-01-15', '2014-01-14',\n",
              "       '2014-01-13', '2014-01-12', '2014-01-11', '2014-01-10',\n",
              "       '2014-01-09', '2014-01-08', '2014-01-07', '2014-01-06',\n",
              "       '2014-01-05', '2014-01-04', '2014-01-03', '2014-01-02',\n",
              "       '2014-01-01', '2013-12-31', '2013-12-30', '2013-12-29',\n",
              "       '2013-12-28', '2013-12-27', '2013-12-26', '2013-12-25',\n",
              "       '2013-12-24', '2013-12-23', '2013-12-22', '2013-12-21',\n",
              "       '2013-12-20', '2013-12-19', '2013-12-18', '2013-12-17',\n",
              "       '2013-12-16', '2013-12-15', '2013-12-14', '2013-12-13',\n",
              "       '2013-12-12', '2013-12-11', '2013-12-10', '2013-12-09',\n",
              "       '2013-12-08', '2013-12-07', '2013-12-06', '2013-12-05',\n",
              "       '2013-12-04', '2013-12-03', '2013-12-02', '2013-12-01',\n",
              "       '2013-11-30', '2013-11-29', '2013-11-28', '2013-11-27',\n",
              "       '2013-11-26', '2013-11-25', '2013-11-24', '2013-11-23',\n",
              "       '2013-11-22', '2013-11-21', '2013-11-20', '2013-11-19',\n",
              "       '2013-11-18', '2013-11-17', '2013-11-16', '2013-11-15',\n",
              "       '2013-11-14', '2013-11-13', '2013-11-12', '2013-11-11',\n",
              "       '2013-11-10', '2013-11-09', '2013-11-08', '2013-11-07',\n",
              "       '2013-11-06', '2013-11-05', '2013-11-04', '2013-11-03',\n",
              "       '2013-11-02', '2013-11-01', '2013-10-31', '2013-10-30',\n",
              "       '2013-10-29', '2013-10-28', '2013-10-27', '2013-10-26',\n",
              "       '2013-10-25', '2013-10-24', '2013-10-23', '2013-10-22',\n",
              "       '2013-10-21', '2013-10-20', '2013-10-19', '2013-10-18',\n",
              "       '2013-10-17', '2013-10-16', '2013-10-15', '2013-10-14',\n",
              "       '2013-10-13', '2013-10-12', '2013-10-11', '2013-10-10',\n",
              "       '2013-10-09', '2013-10-08', '2013-10-07', '2013-10-06',\n",
              "       '2013-10-05', '2013-10-04', '2013-10-03', '2013-10-02',\n",
              "       '2013-10-01', '2013-09-30', '2013-09-29', '2013-09-28',\n",
              "       '2013-09-27', '2013-09-26', '2013-09-25', '2013-09-24',\n",
              "       '2013-09-23', '2013-09-22', '2013-09-21', '2013-09-20',\n",
              "       '2013-09-19', '2013-09-18', '2013-09-17', '2013-09-16',\n",
              "       '2013-09-15', '2013-09-14', '2013-09-13', '2013-09-12',\n",
              "       '2013-09-11', '2013-09-10', '2013-09-09', '2013-09-08',\n",
              "       '2013-09-07', '2013-09-06', '2013-09-05', '2013-09-04',\n",
              "       '2013-09-03', '2013-09-02', '2013-09-01', '2013-08-31',\n",
              "       '2013-08-30', '2013-08-29', '2013-08-28', '2013-08-27',\n",
              "       '2013-08-26', '2013-08-25', '2013-08-24', '2013-08-23',\n",
              "       '2013-08-22', '2013-08-21', '2013-08-20', '2013-08-19',\n",
              "       '2013-08-18', '2013-08-17', '2013-08-16', '2013-08-15',\n",
              "       '2013-08-14', '2013-08-13', '2013-08-12', '2013-08-11',\n",
              "       '2013-08-10', '2013-08-09', '2013-08-08', '2013-08-07',\n",
              "       '2013-08-06', '2013-08-05', '2013-08-04', '2013-08-03',\n",
              "       '2013-08-02', '2013-08-01', '2013-07-31', '2013-07-30',\n",
              "       '2013-07-29', '2013-07-28', '2013-07-27', '2013-07-26',\n",
              "       '2013-07-25', '2013-07-24', '2013-07-23', '2013-07-22',\n",
              "       '2013-07-21', '2013-07-20', '2013-07-19', '2013-07-18',\n",
              "       '2013-07-17', '2013-07-16', '2013-07-15', '2013-07-14',\n",
              "       '2013-07-13', '2013-07-12', '2013-07-11', '2013-07-10',\n",
              "       '2013-07-09', '2013-07-08', '2013-07-07', '2013-07-06',\n",
              "       '2013-07-05', '2013-07-04', '2013-07-03', '2013-07-02',\n",
              "       '2013-07-01', '2013-06-30', '2013-06-29', '2013-06-28',\n",
              "       '2013-06-27', '2013-06-26', '2013-06-25', '2013-06-24',\n",
              "       '2013-06-23', '2013-06-22', '2013-06-21', '2013-06-20',\n",
              "       '2013-06-19', '2013-06-18', '2013-06-17', '2013-06-16',\n",
              "       '2013-06-15', '2013-06-14', '2013-06-13', '2013-06-12',\n",
              "       '2013-06-11', '2013-06-10', '2013-06-09', '2013-06-08',\n",
              "       '2013-06-07', '2013-06-06', '2013-06-05', '2013-06-04',\n",
              "       '2013-06-03', '2013-06-02', '2013-06-01', '2013-05-31',\n",
              "       '2013-05-30', '2013-05-29', '2013-05-28', '2013-05-27',\n",
              "       '2013-05-26', '2013-05-25', '2013-05-24', '2013-05-23',\n",
              "       '2013-05-22', '2013-05-21', '2013-05-20', '2013-05-19',\n",
              "       '2013-05-18', '2013-05-17', '2013-05-16', '2013-05-15',\n",
              "       '2013-05-14', '2013-05-13', '2013-05-12', '2013-05-11',\n",
              "       '2013-05-10', '2013-05-09', '2013-05-08', '2013-05-07',\n",
              "       '2013-05-06', '2013-05-05', '2013-05-04', '2013-05-03',\n",
              "       '2013-05-02', '2013-05-01', '2013-04-30', '2013-04-29',\n",
              "       '2013-04-28', '2013-04-27', '2013-04-26', '2013-04-25',\n",
              "       '2013-04-24', '2013-04-23', '2013-04-22', '2013-04-21',\n",
              "       '2013-04-20', '2013-04-19', '2013-04-18', '2013-04-17',\n",
              "       '2013-04-16', '2013-04-15', '2013-04-14', '2013-04-13',\n",
              "       '2013-04-12', '2013-04-11', '2013-04-10', '2013-04-09',\n",
              "       '2013-04-08', '2013-04-07', '2013-04-06', '2013-04-05',\n",
              "       '2013-04-04', '2013-04-03', '2013-04-02', '2013-04-01',\n",
              "       '2013-03-31', '2013-03-30', '2013-03-29', '2013-03-28',\n",
              "       '2013-03-27', '2013-03-26', '2013-03-25', '2013-03-24',\n",
              "       '2013-03-23', '2013-03-22', '2013-03-21', '2013-03-20',\n",
              "       '2013-03-19', '2013-03-18', '2013-03-17', '2013-03-16',\n",
              "       '2013-03-15', '2013-03-14', '2013-03-13', '2013-03-12',\n",
              "       '2013-03-11', '2013-03-10', '2013-03-09', '2013-03-08',\n",
              "       '2013-03-07', '2013-03-06', '2013-03-05', '2013-03-04',\n",
              "       '2013-03-03', '2013-03-02', '2013-03-01', '2013-02-28',\n",
              "       '2013-02-27', '2013-02-26', '2013-02-25', '2013-02-24',\n",
              "       '2013-02-23', '2013-02-22', '2013-02-21', '2013-02-20',\n",
              "       '2013-02-19', '2013-02-18', '2013-02-17', '2013-02-16',\n",
              "       '2013-02-15', '2013-02-14', '2013-02-13', '2013-02-12',\n",
              "       '2013-02-11', '2013-02-10', '2013-02-09', '2013-02-08',\n",
              "       '2013-02-07', '2013-02-06', '2013-02-05', '2013-02-04',\n",
              "       '2013-02-03', '2013-02-02', '2013-02-01', '2013-01-31',\n",
              "       '2013-01-30', '2013-01-29', '2013-01-28', '2013-01-27',\n",
              "       '2013-01-26', '2013-01-25', '2013-01-24', '2013-01-23',\n",
              "       '2013-01-22', '2013-01-21', '2013-01-20', '2013-01-19',\n",
              "       '2013-01-18', '2013-01-17', '2013-01-16', '2013-01-15',\n",
              "       '2013-01-14', '2013-01-13', '2013-01-12', '2013-01-11',\n",
              "       '2013-01-10', '2013-01-09', '2013-01-08', '2013-01-07',\n",
              "       '2013-01-06', '2013-01-05', '2013-01-04', '2013-01-03',\n",
              "       '2013-01-02', '2013-01-01'], dtype=object)"
            ]
          },
          "metadata": {},
          "execution_count": 22
        }
      ],
      "source": [
        "merged_data.Date.unique()"
      ]
    },
    {
      "cell_type": "markdown",
      "metadata": {
        "id": "8qk8gKkZc5wt"
      },
      "source": [
        "**The dataset is from 1 January 2013 to 31 July 2015 , i.e. approx. 2.5 yrs.**"
      ]
    },
    {
      "cell_type": "markdown",
      "metadata": {
        "id": "jtdC_G2rjEun"
      },
      "source": [
        "# 3.1 How many open or closed stores are in the data?"
      ]
    },
    {
      "cell_type": "code",
      "execution_count": null,
      "metadata": {
        "colab": {
          "base_uri": "https://localhost:8080/",
          "height": 279
        },
        "id": "fJ3UpTNgidWE",
        "outputId": "15c57af2-34a8-43d7-b5db-5f4fbcfccd88"
      },
      "outputs": [
        {
          "output_type": "display_data",
          "data": {
            "text/plain": [
              "<Figure size 864x288 with 1 Axes>"
            ],
            "image/png": "[encoded data removed]"
          },
          "metadata": {
            "needs_background": "light"
          }
        }
      ],
      "source": [
        "fig_dims = (12, 4)\n",
        "fig, ax = plt.subplots(figsize=fig_dims)\n",
        "x=merged_data.groupby(['Open'])[['Store']].count()\n",
        "x=x.reset_index()\n",
        "labels=['Open','Closed']\n",
        "sns.barplot(x['Store'],x['Open'],color='c')\n",
        "plt.xlabel('Total Number of Store')\n",
        "plt.ylabel('Open Or Close')\n",
        "legend_elements = [Line2D([0], [0], color='c', lw=4, label='Open')]\n",
        "plt.legend(handles=legend_elements);\n",
        "plt.show()\n"
      ]
    },
    {
      "cell_type": "markdown",
      "metadata": {
        "id": "UiChymiZi8im"
      },
      "source": [
        "In above figure, there are 172817 closed stores and there are 844392 open stores."
      ]
    },
    {
      "cell_type": "markdown",
      "metadata": {
        "id": "hpFkFCOfjZyG"
      },
      "source": [
        "# 3.2 How many Promo is in the data?"
      ]
    },
    {
      "cell_type": "code",
      "execution_count": null,
      "metadata": {
        "colab": {
          "base_uri": "https://localhost:8080/",
          "height": 331
        },
        "id": "TvMZ468Gjct8",
        "outputId": "ba0f48b3-2764-488a-e4b5-e9e1a2c210ca"
      },
      "outputs": [
        {
          "output_type": "execute_result",
          "data": {
            "text/plain": [
              "<bound method Series.unique of 0    628857\n",
              "1    387552\n",
              "Name: Promo, dtype: int64>"
            ]
          },
          "metadata": {},
          "execution_count": 64
        },
        {
          "output_type": "display_data",
          "data": {
            "text/plain": [
              "<Figure size 576x288 with 1 Axes>"
            ],
            "image/png": "[encoded data removed]"
          },
          "metadata": {
            "needs_background": "light"
          }
        }
      ],
      "source": [
        "fig_dims = (8, 4)\n",
        "fig, ax = plt.subplots(figsize=fig_dims)\n",
        "sns.countplot(x ='Promo', data = merged_data,\n",
        "              color=\"salmon\",\n",
        "              saturation = 0.1)\n",
        "merged_data['Promo'].value_counts().unique"
      ]
    },
    {
      "cell_type": "markdown",
      "metadata": {
        "id": "CqTFJNUyjsSU"
      },
      "source": [
        " There are 629129 no promotions, and there are 388080 promotions in the data."
      ]
    },
    {
      "cell_type": "markdown",
      "metadata": {
        "id": "XLeu4bBGlAXq"
      },
      "source": [
        "#3.3 Which day has the Promotion?"
      ]
    },
    {
      "cell_type": "code",
      "execution_count": null,
      "metadata": {
        "colab": {
          "base_uri": "https://localhost:8080/",
          "height": 405
        },
        "id": "L8SHXOmdlHce",
        "outputId": "ce3af2f3-b29c-4142-c682-f73d253fa69e"
      },
      "outputs": [
        {
          "output_type": "execute_result",
          "data": {
            "text/plain": [
              "<matplotlib.axes._subplots.AxesSubplot at 0x7f871e01f250>"
            ]
          },
          "metadata": {},
          "execution_count": 25
        },
        {
          "output_type": "display_data",
          "data": {
            "text/plain": [
              "<Figure size 1296x432 with 1 Axes>"
            ],
            "image/png": "[encoded data removed]"
          },
          "metadata": {
            "needs_background": "light"
          }
        }
      ],
      "source": [
        "fig_dims = (18, 6)\n",
        "fig, ax = plt.subplots(figsize=fig_dims)\n",
        "sns.countplot(x='DayOfWeek',hue='Promo',data=df1)"
      ]
    },
    {
      "cell_type": "markdown",
      "metadata": {
        "id": "EdgJYqz7lxak"
      },
      "source": [
        "In the above figure, all of the weekday has a promotion. The weekend has no promotion."
      ]
    },
    {
      "cell_type": "markdown",
      "metadata": {
        "id": "E7JOnylEoXmY"
      },
      "source": [
        "#3.4 Does Promotion affect the Sales Price?"
      ]
    },
    {
      "cell_type": "code",
      "execution_count": null,
      "metadata": {
        "colab": {
          "base_uri": "https://localhost:8080/",
          "height": 312
        },
        "id": "zafldjxtoihr",
        "outputId": "2f1df902-5734-4817-aad5-b95b4832dc56"
      },
      "outputs": [
        {
          "output_type": "execute_result",
          "data": {
            "text/plain": [
              "Text(0.5, 1.0, 'Sales with Promotion')"
            ]
          },
          "metadata": {},
          "execution_count": 67
        },
        {
          "output_type": "display_data",
          "data": {
            "text/plain": [
              "<Figure size 432x288 with 1 Axes>"
            ],
            "image/png": "[encoded data removed]"
          },
          "metadata": {
            "needs_background": "light"
          }
        }
      ],
      "source": [
        "sns.lineplot(x=\"Promo\",  y = 'Sales',data =merged_data).set_title(\"Sales with Promotion\")"
      ]
    },
    {
      "cell_type": "markdown",
      "metadata": {
        "id": "t1NYiGO5o2p0"
      },
      "source": [
        "The sales price has the highest when there is a promotion."
      ]
    },
    {
      "cell_type": "markdown",
      "metadata": {
        "id": "JKTtDcppmg2W"
      },
      "source": [
        "#3.5 Which store has the more Customers?"
      ]
    },
    {
      "cell_type": "code",
      "execution_count": null,
      "metadata": {
        "colab": {
          "base_uri": "https://localhost:8080/",
          "height": 420
        },
        "id": "vyg00sQXmkOy",
        "outputId": "42ee8e76-c8e6-4ddd-c985-b56c63798d2d"
      },
      "outputs": [
        {
          "output_type": "execute_result",
          "data": {
            "text/plain": [
              "Text(0, 0.5, 'Customer')"
            ]
          },
          "metadata": {},
          "execution_count": 81
        },
        {
          "output_type": "display_data",
          "data": {
            "text/plain": [
              "<Figure size 1296x432 with 1 Axes>"
            ],
            "image/png": "[encoded data removed]"
          },
          "metadata": {
            "needs_background": "light"
          }
        }
      ],
      "source": [
        "fig_dims = (18, 6)\n",
        "fig, ax = plt.subplots(figsize=fig_dims)\n",
        "\n",
        "merged_data.groupby('Store').agg({'Customers': 'max'})['Customers'].nlargest(10).plot.bar()\n",
        "plt.xlabel('Store')\n",
        "plt.ylabel('Customer')"
      ]
    },
    {
      "cell_type": "markdown",
      "metadata": {
        "id": "TT9gPu7TnKV2"
      },
      "source": [
        "In the figure, the store which is 733 number has the maximum number of customers."
      ]
    },
    {
      "cell_type": "markdown",
      "metadata": {
        "id": "3pXJgFkaoSvu"
      },
      "source": [
        "#3.6 State Holidays and Sales"
      ]
    },
    {
      "cell_type": "code",
      "execution_count": null,
      "metadata": {
        "colab": {
          "base_uri": "https://localhost:8080/",
          "height": 312
        },
        "id": "XpbizL9Ypp7Y",
        "outputId": "971957d5-fb56-4179-e803-d463c6f6430b"
      },
      "outputs": [
        {
          "output_type": "execute_result",
          "data": {
            "text/plain": [
              "Text(0.5, 1.0, 'State Holidays and Sales')"
            ]
          },
          "metadata": {},
          "execution_count": 71
        },
        {
          "output_type": "display_data",
          "data": {
            "text/plain": [
              "<Figure size 432x288 with 1 Axes>"
            ],
            "image/png": "[encoded data removed]"
          },
          "metadata": {
            "needs_background": "light"
          }
        }
      ],
      "source": [
        "sns.boxenplot(y = 'Sales', x = 'StateHoliday', data=merged_data )\n",
        "plt.title('State Holidays and Sales')"
      ]
    },
    {
      "cell_type": "markdown",
      "metadata": {
        "id": "dQQ_lPc5qC2h"
      },
      "source": [
        "There are no sales during the public holiday period. Therefore, important holidays affect sales."
      ]
    },
    {
      "cell_type": "markdown",
      "metadata": {
        "id": "fHyiPqaurT26"
      },
      "source": [
        "#3.7 Sales Vs State Holidays"
      ]
    },
    {
      "cell_type": "code",
      "execution_count": null,
      "metadata": {
        "colab": {
          "base_uri": "https://localhost:8080/",
          "height": 405
        },
        "id": "byJPCx7VqpYx",
        "outputId": "3a826e57-7fa7-46ff-bc64-72e6f05360ad"
      },
      "outputs": [
        {
          "output_type": "execute_result",
          "data": {
            "text/plain": [
              "<matplotlib.axes._subplots.AxesSubplot at 0x7f871ddbf990>"
            ]
          },
          "metadata": {},
          "execution_count": 29
        },
        {
          "output_type": "display_data",
          "data": {
            "text/plain": [
              "<Figure size 1224x432 with 2 Axes>"
            ],
            "image/png": "[encoded data removed]"
          },
          "metadata": {
            "needs_background": "light"
          }
        }
      ],
      "source": [
        "fig, (axis1,axis2) = plt.subplots(1,2,figsize=(17,6))\n",
        "sns.barplot(x=merged_data['StoreType'],y=merged_data['Sales'], ax=axis1)\n",
        "sns.barplot(x=merged_data['StoreType'],y=merged_data['Customers'], ax=axis2)"
      ]
    },
    {
      "cell_type": "markdown",
      "metadata": {
        "id": "_-g4jOmLrL3o"
      },
      "source": [
        "In the left figure, the b store has the highest sales. a, c, d stores have the same sales prices approximately. When we look at the right figure, b has the highest number of customers with a clear difference. In this figure, only the d store has the lowest number of customers but it has the same sales prices compared to a and c stores."
      ]
    },
    {
      "cell_type": "markdown",
      "metadata": {
        "id": "p8ntjylJsruL"
      },
      "source": [
        "#3.8 Sales Vs School Holidays"
      ]
    },
    {
      "cell_type": "code",
      "execution_count": null,
      "metadata": {
        "colab": {
          "base_uri": "https://localhost:8080/",
          "height": 296
        },
        "id": "XrJJtSugrZEF",
        "outputId": "5ec52936-6f2f-4126-a645-33ea29ff4a41"
      },
      "outputs": [
        {
          "output_type": "execute_result",
          "data": {
            "text/plain": [
              "<matplotlib.axes._subplots.AxesSubplot at 0x7f87199d4b10>"
            ]
          },
          "metadata": {},
          "execution_count": 76
        },
        {
          "output_type": "display_data",
          "data": {
            "text/plain": [
              "<Figure size 432x288 with 1 Axes>"
            ],
            "image/png": "[encoded data removed]"
          },
          "metadata": {
            "needs_background": "light"
          }
        }
      ],
      "source": [
        "sns.boxplot(x=merged_data['SchoolHoliday'], y=merged_data['Sales'])\n",
        "sns.boxplot(x=merged_data['SchoolHoliday'], y=merged_data['Customers'])            "
      ]
    },
    {
      "cell_type": "markdown",
      "metadata": {
        "id": "qpeU0xhgsxPm"
      },
      "source": [
        "When we look at the two figures, O shows the no school holidays and 1 shows the school holidays. we can clearly see that the school holiday increases the sales price and customers proportionally."
      ]
    },
    {
      "cell_type": "markdown",
      "metadata": {
        "id": "Kca_8o9buFf1"
      },
      "source": [
        "#3.9 Correlation Analysis"
      ]
    },
    {
      "cell_type": "markdown",
      "metadata": {
        "id": "XZ9YlW51uLs6"
      },
      "source": [
        "Correlation analysis shows the relationship between 2 features. This analysis helps us to understand which features are positive or negative relationships."
      ]
    },
    {
      "cell_type": "code",
      "execution_count": null,
      "metadata": {
        "colab": {
          "base_uri": "https://localhost:8080/",
          "height": 723
        },
        "id": "SHe33yY4trx5",
        "outputId": "aaf74ae2-1d51-481a-ec9a-f1d2d46b1f0e"
      },
      "outputs": [
        {
          "output_type": "display_data",
          "data": {
            "text/plain": [
              "<Figure size 864x720 with 2 Axes>"
            ],
            "image/png": "[encoded data removed]"
          },
          "metadata": {
            "needs_background": "light"
          }
        }
      ],
      "source": [
        "# Compute the correlation matrix \n",
        "# exclude 'Open' variable\n",
        "corr_all = merged_data.drop('Open', axis = 1).corr()\n",
        "\n",
        "# Generate a mask for the upper triangle\n",
        "mask = np.zeros_like(corr_all, dtype = np.bool)\n",
        "mask[np.triu_indices_from(mask)] = True\n",
        "\n",
        "# Set up the matplotlib figure\n",
        "f, ax = plt.subplots(figsize = (12, 10))\n",
        "\n",
        "# Draw the heatmap with the mask and correct aspect ratio\n",
        "sns.heatmap(corr_all, mask = mask,\n",
        "            square = True, linewidths = .5, ax = ax, cmap = \"YlGn\")      \n",
        "plt.show()"
      ]
    },
    {
      "cell_type": "markdown",
      "metadata": {
        "id": "lHwLLzOlt5Ib"
      },
      "source": [
        "In the above figure, the heat map shows the relationship between two features. Each two features values must be between -1 and 1. When we explain the map:\n",
        "\n",
        "**-1** means that there is a negative relationship between 2 features. For example, Customers and PromoInterval have a negative relationship. The colour of the value is light blue.\n",
        "\n",
        "**0** means that there is no relationship between 2 features.\n",
        "\n",
        "**1** means that there is a positive relationship between 2 features. For example, Promo2 and Promo2SinceYear have a strong positive relationship."
      ]
    },
    {
      "cell_type": "markdown",
      "metadata": {
        "id": "XnGzxxFJAQ4C"
      },
      "source": [
        "#3.10  Outliers Detection and Removal."
      ]
    },
    {
      "cell_type": "code",
      "execution_count": null,
      "metadata": {
        "colab": {
          "base_uri": "https://localhost:8080/",
          "height": 386
        },
        "id": "0b-rEfrdAY0g",
        "outputId": "2ab39b3b-3fd8-4fcc-faa5-a56d06f00f72"
      },
      "outputs": [
        {
          "output_type": "execute_result",
          "data": {
            "text/plain": [
              "<seaborn.axisgrid.FacetGrid at 0x7f871e4f59d0>"
            ]
          },
          "metadata": {},
          "execution_count": 32
        },
        {
          "output_type": "display_data",
          "data": {
            "text/plain": [
              "<Figure size 360x360 with 1 Axes>"
            ],
            "image/png": "[encoded data removed]"
          },
          "metadata": {
            "needs_background": "light"
          }
        }
      ],
      "source": [
        "sns.displot(merged_data,x='Sales',bins=30)"
      ]
    },
    {
      "cell_type": "markdown",
      "metadata": {
        "id": "lqaB8f-nA3S7"
      },
      "source": [
        "**From the above graph we can observe that sales >25k are very less, so it might be an outlier.**"
      ]
    },
    {
      "cell_type": "markdown",
      "metadata": {
        "id": "jt8KLRe8BF3D"
      },
      "source": [
        "Now we will check the Z-Score and see if any datapoint have greater than 3 z-score then we treat them as Outlier"
      ]
    },
    {
      "cell_type": "code",
      "execution_count": null,
      "metadata": {
        "colab": {
          "base_uri": "https://localhost:8080/",
          "height": 420
        },
        "id": "tGtjgGtaBNhp",
        "outputId": "ab4ebc53-6c19-43bf-d5b5-cac3727838f5"
      },
      "outputs": [
        {
          "output_type": "stream",
          "name": "stdout",
          "text": [
            "Total Outliers:  9731\n"
          ]
        },
        {
          "output_type": "execute_result",
          "data": {
            "text/plain": [
              "<seaborn.axisgrid.FacetGrid at 0x7f871e627610>"
            ]
          },
          "metadata": {},
          "execution_count": 33
        },
        {
          "output_type": "display_data",
          "data": {
            "text/plain": [
              "<Figure size 360x360 with 1 Axes>"
            ],
            "image/png": "[encoded data removed]"
          },
          "metadata": {
            "needs_background": "light"
          }
        }
      ],
      "source": [
        "mean_sales = np.mean(merged_data['Sales'])\n",
        "std_sales = np.std(merged_data['Sales'])\n",
        "\n",
        "threshold = 3\n",
        "\n",
        "outliers = []\n",
        "for i in merged_data['Sales']:\n",
        "    z_score = (i-mean_sales)/std_sales\n",
        "    if z_score > threshold:\n",
        "        outliers.append(i)\n",
        "        \n",
        "print('Total Outliers: ', len(outliers))\n",
        "\n",
        "sns.displot(x=outliers,bins=30).set(title='Outliers Distribution')"
      ]
    },
    {
      "cell_type": "code",
      "execution_count": null,
      "metadata": {
        "colab": {
          "base_uri": "https://localhost:8080/"
        },
        "id": "v1wDixJeBXa9",
        "outputId": "ca0f032d-45ca-434b-e2ec-25bdc0f24df5"
      },
      "outputs": [
        {
          "output_type": "stream",
          "name": "stdout",
          "text": [
            "Total percentage of 0 in dataset: 16.995%\n",
            "Total percentage of sales >25k in dataset: 0.075% \n"
          ]
        }
      ],
      "source": [
        "# Percentage of Outliers \n",
        "zero_sales = merged_data.loc[merged_data['Sales']==0]\n",
        "sales_greater_than_25k = merged_data.loc[merged_data['Sales'] > 25000]\n",
        "print('Total percentage of 0 in dataset: %.3f%%' %((len(zero_sales)/len(merged_data))*100))\n",
        "print('Total percentage of sales >25k in dataset: %.3f%% ' %((len(sales_greater_than_25k)/len(merged_data))*100))"
      ]
    },
    {
      "cell_type": "markdown",
      "metadata": {
        "id": "s_kbz_ACBb9Z"
      },
      "source": [
        "**As we can see that we have very less percentage of sales datapoints that are >25k so we can drop them.**"
      ]
    },
    {
      "cell_type": "code",
      "execution_count": null,
      "metadata": {
        "id": "BGkCW_raBuJD"
      },
      "outputs": [],
      "source": [
        "merged_data.drop(merged_data.loc[merged_data['Sales'] > 25000].index,inplace=True)"
      ]
    },
    {
      "cell_type": "code",
      "execution_count": null,
      "metadata": {
        "colab": {
          "base_uri": "https://localhost:8080/"
        },
        "id": "K-ZThZOwBySm",
        "outputId": "de408b79-de36-45d6-ded7-3ca3b0977c96"
      },
      "outputs": [
        {
          "output_type": "execute_result",
          "data": {
            "text/plain": [
              "(1016451, 18)"
            ]
          },
          "metadata": {},
          "execution_count": 36
        }
      ],
      "source": [
        "merged_data.shape"
      ]
    },
    {
      "cell_type": "markdown",
      "metadata": {
        "id": "37fJQOWjgQPj"
      },
      "source": [
        "# **4. Inferences from EDA**"
      ]
    },
    {
      "cell_type": "markdown",
      "metadata": {
        "id": "J4iT_OnCgelA"
      },
      "source": [
        "\n",
        "\n",
        "All of the weekday has a promotion and the weekend has no promotion.\n",
        "\n",
        "The sales price has the highest when there is a promotion.\n",
        "\n",
        "\n",
        " All Type ‘b’ stores have comparatively higher sales and it mostly constant with peaks\n",
        "appears on weekends.\n",
        "\n",
        "Majority of Stores remains closed on state holidays.\n",
        "\n",
        "School holiday increases the sales price and customers proportionally.\n"
      ]
    },
    {
      "cell_type": "markdown",
      "metadata": {
        "id": "MeKPJdmTMGUZ"
      },
      "source": [
        "#**5**. **Feature Engineering**"
      ]
    },
    {
      "cell_type": "markdown",
      "metadata": {
        "id": "RU_xQuffMfwp"
      },
      "source": [
        "###5.1 Converting Categorical Variable to Numeric:"
      ]
    },
    {
      "cell_type": "code",
      "execution_count": null,
      "metadata": {
        "colab": {
          "base_uri": "https://localhost:8080/"
        },
        "id": "2t9HDwGhcgrg",
        "outputId": "77fa7925-9365-4c15-fa69-ab2c3b72b49a"
      },
      "outputs": [
        {
          "output_type": "stream",
          "name": "stdout",
          "text": [
            "(1016439, 18)\n"
          ]
        }
      ],
      "source": [
        "merged_data.drop(merged_data.loc[(merged_data['Sales']==0) & (merged_data['Open'] == 1)\n",
        "                                     & (merged_data['StateHoliday'] == 0) & \n",
        "                                     (merged_data['SchoolHoliday'] == 0)].index,inplace=True)\n",
        "print(merged_data.shape)"
      ]
    },
    {
      "cell_type": "code",
      "execution_count": null,
      "metadata": {
        "colab": {
          "base_uri": "https://localhost:8080/",
          "height": 270
        },
        "id": "ON65a9YaMlRB",
        "outputId": "5859ce14-c4e7-4e1b-ad72-e80271248c51"
      },
      "outputs": [
        {
          "output_type": "execute_result",
          "data": {
            "text/plain": [
              "   Store  DayOfWeek  Sales  Customers  Open  Promo StateHoliday  \\\n",
              "0      1          5   5263        555     1      1            0   \n",
              "1      1          4   5020        546     1      1            0   \n",
              "2      1          3   4782        523     1      1            0   \n",
              "3      1          2   5011        560     1      1            0   \n",
              "4      1          1   6102        612     1      1            0   \n",
              "\n",
              "   SchoolHoliday StoreType Assortment  CompetitionDistance  \\\n",
              "0              1         c          a               1270.0   \n",
              "1              1         c          a               1270.0   \n",
              "2              1         c          a               1270.0   \n",
              "3              1         c          a               1270.0   \n",
              "4              1         c          a               1270.0   \n",
              "\n",
              "   CompetitionOpenSinceMonth  CompetitionOpenSinceYear  Promo2  \\\n",
              "0                        9.0                    2008.0       0   \n",
              "1                        9.0                    2008.0       0   \n",
              "2                        9.0                    2008.0       0   \n",
              "3                        9.0                    2008.0       0   \n",
              "4                        9.0                    2008.0       0   \n",
              "\n",
              "   Promo2SinceWeek  Promo2SinceYear PromoInterval  Year  Month  \n",
              "0              0.0              0.0             0  2015      7  \n",
              "1              0.0              0.0             0  2015      7  \n",
              "2              0.0              0.0             0  2015      7  \n",
              "3              0.0              0.0             0  2015      7  \n",
              "4              0.0              0.0             0  2015      7  "
            ],
            "text/html": [
              "\n",
              "  <div id=\"df-bc4cad39-83fb-4e9c-a195-d524f528a721\">\n",
              "    <div class=\"colab-df-container\">\n",
              "      <div>\n",
              "<style scoped>\n",
              "    .dataframe tbody tr th:only-of-type {\n",
              "        vertical-align: middle;\n",
              "    }\n",
              "\n",
              "    .dataframe tbody tr th {\n",
              "        vertical-align: top;\n",
              "    }\n",
              "\n",
              "    .dataframe thead th {\n",
              "        text-align: right;\n",
              "    }\n",
              "</style>\n",
              "<table border=\"1\" class=\"dataframe\">\n",
              "  <thead>\n",
              "    <tr style=\"text-align: right;\">\n",
              "      <th></th>\n",
              "      <th>Store</th>\n",
              "      <th>DayOfWeek</th>\n",
              "      <th>Sales</th>\n",
              "      <th>Customers</th>\n",
              "      <th>Open</th>\n",
              "      <th>Promo</th>\n",
              "      <th>StateHoliday</th>\n",
              "      <th>SchoolHoliday</th>\n",
              "      <th>StoreType</th>\n",
              "      <th>Assortment</th>\n",
              "      <th>CompetitionDistance</th>\n",
              "      <th>CompetitionOpenSinceMonth</th>\n",
              "      <th>CompetitionOpenSinceYear</th>\n",
              "      <th>Promo2</th>\n",
              "      <th>Promo2SinceWeek</th>\n",
              "      <th>Promo2SinceYear</th>\n",
              "      <th>PromoInterval</th>\n",
              "      <th>Year</th>\n",
              "      <th>Month</th>\n",
              "    </tr>\n",
              "  </thead>\n",
              "  <tbody>\n",
              "    <tr>\n",
              "      <th>0</th>\n",
              "      <td>1</td>\n",
              "      <td>5</td>\n",
              "      <td>5263</td>\n",
              "      <td>555</td>\n",
              "      <td>1</td>\n",
              "      <td>1</td>\n",
              "      <td>0</td>\n",
              "      <td>1</td>\n",
              "      <td>c</td>\n",
              "      <td>a</td>\n",
              "      <td>1270.0</td>\n",
              "      <td>9.0</td>\n",
              "      <td>2008.0</td>\n",
              "      <td>0</td>\n",
              "      <td>0.0</td>\n",
              "      <td>0.0</td>\n",
              "      <td>0</td>\n",
              "      <td>2015</td>\n",
              "      <td>7</td>\n",
              "    </tr>\n",
              "    <tr>\n",
              "      <th>1</th>\n",
              "      <td>1</td>\n",
              "      <td>4</td>\n",
              "      <td>5020</td>\n",
              "      <td>546</td>\n",
              "      <td>1</td>\n",
              "      <td>1</td>\n",
              "      <td>0</td>\n",
              "      <td>1</td>\n",
              "      <td>c</td>\n",
              "      <td>a</td>\n",
              "      <td>1270.0</td>\n",
              "      <td>9.0</td>\n",
              "      <td>2008.0</td>\n",
              "      <td>0</td>\n",
              "      <td>0.0</td>\n",
              "      <td>0.0</td>\n",
              "      <td>0</td>\n",
              "      <td>2015</td>\n",
              "      <td>7</td>\n",
              "    </tr>\n",
              "    <tr>\n",
              "      <th>2</th>\n",
              "      <td>1</td>\n",
              "      <td>3</td>\n",
              "      <td>4782</td>\n",
              "      <td>523</td>\n",
              "      <td>1</td>\n",
              "      <td>1</td>\n",
              "      <td>0</td>\n",
              "      <td>1</td>\n",
              "      <td>c</td>\n",
              "      <td>a</td>\n",
              "      <td>1270.0</td>\n",
              "      <td>9.0</td>\n",
              "      <td>2008.0</td>\n",
              "      <td>0</td>\n",
              "      <td>0.0</td>\n",
              "      <td>0.0</td>\n",
              "      <td>0</td>\n",
              "      <td>2015</td>\n",
              "      <td>7</td>\n",
              "    </tr>\n",
              "    <tr>\n",
              "      <th>3</th>\n",
              "      <td>1</td>\n",
              "      <td>2</td>\n",
              "      <td>5011</td>\n",
              "      <td>560</td>\n",
              "      <td>1</td>\n",
              "      <td>1</td>\n",
              "      <td>0</td>\n",
              "      <td>1</td>\n",
              "      <td>c</td>\n",
              "      <td>a</td>\n",
              "      <td>1270.0</td>\n",
              "      <td>9.0</td>\n",
              "      <td>2008.0</td>\n",
              "      <td>0</td>\n",
              "      <td>0.0</td>\n",
              "      <td>0.0</td>\n",
              "      <td>0</td>\n",
              "      <td>2015</td>\n",
              "      <td>7</td>\n",
              "    </tr>\n",
              "    <tr>\n",
              "      <th>4</th>\n",
              "      <td>1</td>\n",
              "      <td>1</td>\n",
              "      <td>6102</td>\n",
              "      <td>612</td>\n",
              "      <td>1</td>\n",
              "      <td>1</td>\n",
              "      <td>0</td>\n",
              "      <td>1</td>\n",
              "      <td>c</td>\n",
              "      <td>a</td>\n",
              "      <td>1270.0</td>\n",
              "      <td>9.0</td>\n",
              "      <td>2008.0</td>\n",
              "      <td>0</td>\n",
              "      <td>0.0</td>\n",
              "      <td>0.0</td>\n",
              "      <td>0</td>\n",
              "      <td>2015</td>\n",
              "      <td>7</td>\n",
              "    </tr>\n",
              "  </tbody>\n",
              "</table>\n",
              "</div>\n",
              "      <button class=\"colab-df-convert\" onclick=\"convertToInteractive('df-bc4cad39-83fb-4e9c-a195-d524f528a721')\"\n",
              "              title=\"Convert this dataframe to an interactive table.\"\n",
              "              style=\"display:none;\">\n",
              "        \n",
              "  <svg xmlns=\"http://www.w3.org/2000/svg\" height=\"24px\"viewBox=\"0 0 24 24\"\n",
              "       width=\"24px\">\n",
              "    <path d=\"M0 0h24v24H0V0z\" fill=\"none\"/>\n",
              "    <path d=\"M18.56 5.44l.94 2.06.94-2.06 2.06-.94-2.06-.94-.94-2.06-.94 2.06-2.06.94zm-11 1L8.5 8.5l.94-2.06 2.06-.94-2.06-.94L8.5 2.5l-.94 2.06-2.06.94zm10 10l.94 2.06.94-2.06 2.06-.94-2.06-.94-.94-2.06-.94 2.06-2.06.94z\"/><path d=\"M17.41 7.96l-1.37-1.37c-.4-.4-.92-.59-1.43-.59-.52 0-1.04.2-1.43.59L10.3 9.45l-7.72 7.72c-.78.78-.78 2.05 0 2.83L4 21.41c.39.39.9.59 1.41.59.51 0 1.02-.2 1.41-.59l7.78-7.78 2.81-2.81c.8-.78.8-2.07 0-2.86zM5.41 20L4 18.59l7.72-7.72 1.47 1.35L5.41 20z\"/>\n",
              "  </svg>\n",
              "      </button>\n",
              "      \n",
              "  <style>\n",
              "    .colab-df-container {\n",
              "      display:flex;\n",
              "      flex-wrap:wrap;\n",
              "      gap: 12px;\n",
              "    }\n",
              "\n",
              "    .colab-df-convert {\n",
              "      background-color: #E8F0FE;\n",
              "      border: none;\n",
              "      border-radius: 50%;\n",
              "      cursor: pointer;\n",
              "      display: none;\n",
              "      fill: #1967D2;\n",
              "      height: 32px;\n",
              "      padding: 0 0 0 0;\n",
              "      width: 32px;\n",
              "    }\n",
              "\n",
              "    .colab-df-convert:hover {\n",
              "      background-color: #E2EBFA;\n",
              "      box-shadow: 0px 1px 2px rgba(60, 64, 67, 0.3), 0px 1px 3px 1px rgba(60, 64, 67, 0.15);\n",
              "      fill: #174EA6;\n",
              "    }\n",
              "\n",
              "    [theme=dark] .colab-df-convert {\n",
              "      background-color: #3B4455;\n",
              "      fill: #D2E3FC;\n",
              "    }\n",
              "\n",
              "    [theme=dark] .colab-df-convert:hover {\n",
              "      background-color: #434B5C;\n",
              "      box-shadow: 0px 1px 3px 1px rgba(0, 0, 0, 0.15);\n",
              "      filter: drop-shadow(0px 1px 2px rgba(0, 0, 0, 0.3));\n",
              "      fill: #FFFFFF;\n",
              "    }\n",
              "  </style>\n",
              "\n",
              "      <script>\n",
              "        const buttonEl =\n",
              "          document.querySelector('#df-bc4cad39-83fb-4e9c-a195-d524f528a721 button.colab-df-convert');\n",
              "        buttonEl.style.display =\n",
              "          google.colab.kernel.accessAllowed ? 'block' : 'none';\n",
              "\n",
              "        async function convertToInteractive(key) {\n",
              "          const element = document.querySelector('#df-bc4cad39-83fb-4e9c-a195-d524f528a721');\n",
              "          const dataTable =\n",
              "            await google.colab.kernel.invokeFunction('convertToInteractive',\n",
              "                                                     [key], {});\n",
              "          if (!dataTable) return;\n",
              "\n",
              "          const docLinkHtml = 'Like what you see? Visit the ' +\n",
              "            '<a target=\"_blank\" href=https://colab.research.google.com/notebooks/data_table.ipynb>data table notebook</a>'\n",
              "            + ' to learn more about interactive tables.';\n",
              "          element.innerHTML = '';\n",
              "          dataTable['output_type'] = 'display_data';\n",
              "          await google.colab.output.renderOutput(dataTable, element);\n",
              "          const docLink = document.createElement('div');\n",
              "          docLink.innerHTML = docLinkHtml;\n",
              "          element.appendChild(docLink);\n",
              "        }\n",
              "      </script>\n",
              "    </div>\n",
              "  </div>\n",
              "  "
            ]
          },
          "metadata": {},
          "execution_count": 38
        }
      ],
      "source": [
        "merged_data['Year'] = merged_data['Date'].apply(lambda x: int(str(x)[0:4]))\n",
        "merged_data['Month'] = merged_data['Date'].apply(lambda x: int(str(x)[5:7]))\n",
        "merged_data.drop(['Date'],axis=1,inplace=True)\n",
        "\n",
        "merged_data.head(5)"
      ]
    },
    {
      "cell_type": "code",
      "execution_count": null,
      "metadata": {
        "colab": {
          "base_uri": "https://localhost:8080/"
        },
        "id": "djZ2q1qqNnM9",
        "outputId": "151f1426-72ff-4427-8034-e26d878f55f4"
      },
      "outputs": [
        {
          "output_type": "execute_result",
          "data": {
            "text/plain": [
              "Store                          int64\n",
              "DayOfWeek                      int64\n",
              "Sales                          int64\n",
              "Customers                      int64\n",
              "Open                           int64\n",
              "Promo                          int64\n",
              "StateHoliday                  object\n",
              "SchoolHoliday                  int64\n",
              "StoreType                     object\n",
              "Assortment                    object\n",
              "CompetitionDistance          float64\n",
              "CompetitionOpenSinceMonth    float64\n",
              "CompetitionOpenSinceYear     float64\n",
              "Promo2                         int64\n",
              "Promo2SinceWeek              float64\n",
              "Promo2SinceYear              float64\n",
              "PromoInterval                 object\n",
              "Year                           int64\n",
              "Month                          int64\n",
              "dtype: object"
            ]
          },
          "metadata": {},
          "execution_count": 39
        }
      ],
      "source": [
        "merged_data.dtypes"
      ]
    },
    {
      "cell_type": "code",
      "execution_count": null,
      "metadata": {
        "id": "YFO4210WN0GD"
      },
      "outputs": [],
      "source": [
        "# StateHoliday column has values 0 & \"0\", So, we need to change values with 0 to \"0\"\n",
        "\n",
        "merged_data['StateHoliday'].loc[merged_data['StateHoliday'] == 0] = '0'"
      ]
    },
    {
      "cell_type": "code",
      "execution_count": null,
      "metadata": {
        "id": "nGvPKl6GONOA"
      },
      "outputs": [],
      "source": [
        "# PromoInterval column has values 0 & \"0\", So, we need to change values with 0 to \"0\"\n",
        "\n",
        "merged_data['PromoInterval'].loc[merged_data['PromoInterval'] == 0] = '0'"
      ]
    },
    {
      "cell_type": "code",
      "execution_count": null,
      "metadata": {
        "colab": {
          "base_uri": "https://localhost:8080/"
        },
        "id": "rgnpmYbtOXbv",
        "outputId": "69332d3d-a69b-4a15-e132-d393911e228a"
      },
      "outputs": [
        {
          "output_type": "execute_result",
          "data": {
            "text/plain": [
              "0    0\n",
              "1    0\n",
              "2    0\n",
              "3    0\n",
              "4    0\n",
              "Name: PromoInterval, dtype: object"
            ]
          },
          "metadata": {},
          "execution_count": 42
        }
      ],
      "source": [
        "merged_data['PromoInterval'].head()"
      ]
    },
    {
      "cell_type": "code",
      "execution_count": null,
      "metadata": {
        "colab": {
          "base_uri": "https://localhost:8080/",
          "height": 270
        },
        "id": "tYMQv0DGOxzV",
        "outputId": "4f86d353-3f2f-43b7-8b97-a38a45316ff5"
      },
      "outputs": [
        {
          "output_type": "execute_result",
          "data": {
            "text/plain": [
              "   Store  DayOfWeek  Sales  Customers  Open  Promo  StateHoliday  \\\n",
              "0      1          5   5263        555     1      1             0   \n",
              "1      1          4   5020        546     1      1             0   \n",
              "2      1          3   4782        523     1      1             0   \n",
              "3      1          2   5011        560     1      1             0   \n",
              "4      1          1   6102        612     1      1             0   \n",
              "\n",
              "   SchoolHoliday  StoreType  Assortment  CompetitionDistance  \\\n",
              "0              1          2           0               1270.0   \n",
              "1              1          2           0               1270.0   \n",
              "2              1          2           0               1270.0   \n",
              "3              1          2           0               1270.0   \n",
              "4              1          2           0               1270.0   \n",
              "\n",
              "   CompetitionOpenSinceMonth  CompetitionOpenSinceYear  Promo2  \\\n",
              "0                        9.0                    2008.0       0   \n",
              "1                        9.0                    2008.0       0   \n",
              "2                        9.0                    2008.0       0   \n",
              "3                        9.0                    2008.0       0   \n",
              "4                        9.0                    2008.0       0   \n",
              "\n",
              "   Promo2SinceWeek  Promo2SinceYear  PromoInterval  Year  Month  \n",
              "0              0.0              0.0              0  2015      7  \n",
              "1              0.0              0.0              0  2015      7  \n",
              "2              0.0              0.0              0  2015      7  \n",
              "3              0.0              0.0              0  2015      7  \n",
              "4              0.0              0.0              0  2015      7  "
            ],
            "text/html": [
              "\n",
              "  <div id=\"df-a916f6d6-afc2-4bf5-8150-f4b53aa5bd63\">\n",
              "    <div class=\"colab-df-container\">\n",
              "      <div>\n",
              "<style scoped>\n",
              "    .dataframe tbody tr th:only-of-type {\n",
              "        vertical-align: middle;\n",
              "    }\n",
              "\n",
              "    .dataframe tbody tr th {\n",
              "        vertical-align: top;\n",
              "    }\n",
              "\n",
              "    .dataframe thead th {\n",
              "        text-align: right;\n",
              "    }\n",
              "</style>\n",
              "<table border=\"1\" class=\"dataframe\">\n",
              "  <thead>\n",
              "    <tr style=\"text-align: right;\">\n",
              "      <th></th>\n",
              "      <th>Store</th>\n",
              "      <th>DayOfWeek</th>\n",
              "      <th>Sales</th>\n",
              "      <th>Customers</th>\n",
              "      <th>Open</th>\n",
              "      <th>Promo</th>\n",
              "      <th>StateHoliday</th>\n",
              "      <th>SchoolHoliday</th>\n",
              "      <th>StoreType</th>\n",
              "      <th>Assortment</th>\n",
              "      <th>CompetitionDistance</th>\n",
              "      <th>CompetitionOpenSinceMonth</th>\n",
              "      <th>CompetitionOpenSinceYear</th>\n",
              "      <th>Promo2</th>\n",
              "      <th>Promo2SinceWeek</th>\n",
              "      <th>Promo2SinceYear</th>\n",
              "      <th>PromoInterval</th>\n",
              "      <th>Year</th>\n",
              "      <th>Month</th>\n",
              "    </tr>\n",
              "  </thead>\n",
              "  <tbody>\n",
              "    <tr>\n",
              "      <th>0</th>\n",
              "      <td>1</td>\n",
              "      <td>5</td>\n",
              "      <td>5263</td>\n",
              "      <td>555</td>\n",
              "      <td>1</td>\n",
              "      <td>1</td>\n",
              "      <td>0</td>\n",
              "      <td>1</td>\n",
              "      <td>2</td>\n",
              "      <td>0</td>\n",
              "      <td>1270.0</td>\n",
              "      <td>9.0</td>\n",
              "      <td>2008.0</td>\n",
              "      <td>0</td>\n",
              "      <td>0.0</td>\n",
              "      <td>0.0</td>\n",
              "      <td>0</td>\n",
              "      <td>2015</td>\n",
              "      <td>7</td>\n",
              "    </tr>\n",
              "    <tr>\n",
              "      <th>1</th>\n",
              "      <td>1</td>\n",
              "      <td>4</td>\n",
              "      <td>5020</td>\n",
              "      <td>546</td>\n",
              "      <td>1</td>\n",
              "      <td>1</td>\n",
              "      <td>0</td>\n",
              "      <td>1</td>\n",
              "      <td>2</td>\n",
              "      <td>0</td>\n",
              "      <td>1270.0</td>\n",
              "      <td>9.0</td>\n",
              "      <td>2008.0</td>\n",
              "      <td>0</td>\n",
              "      <td>0.0</td>\n",
              "      <td>0.0</td>\n",
              "      <td>0</td>\n",
              "      <td>2015</td>\n",
              "      <td>7</td>\n",
              "    </tr>\n",
              "    <tr>\n",
              "      <th>2</th>\n",
              "      <td>1</td>\n",
              "      <td>3</td>\n",
              "      <td>4782</td>\n",
              "      <td>523</td>\n",
              "      <td>1</td>\n",
              "      <td>1</td>\n",
              "      <td>0</td>\n",
              "      <td>1</td>\n",
              "      <td>2</td>\n",
              "      <td>0</td>\n",
              "      <td>1270.0</td>\n",
              "      <td>9.0</td>\n",
              "      <td>2008.0</td>\n",
              "      <td>0</td>\n",
              "      <td>0.0</td>\n",
              "      <td>0.0</td>\n",
              "      <td>0</td>\n",
              "      <td>2015</td>\n",
              "      <td>7</td>\n",
              "    </tr>\n",
              "    <tr>\n",
              "      <th>3</th>\n",
              "      <td>1</td>\n",
              "      <td>2</td>\n",
              "      <td>5011</td>\n",
              "      <td>560</td>\n",
              "      <td>1</td>\n",
              "      <td>1</td>\n",
              "      <td>0</td>\n",
              "      <td>1</td>\n",
              "      <td>2</td>\n",
              "      <td>0</td>\n",
              "      <td>1270.0</td>\n",
              "      <td>9.0</td>\n",
              "      <td>2008.0</td>\n",
              "      <td>0</td>\n",
              "      <td>0.0</td>\n",
              "      <td>0.0</td>\n",
              "      <td>0</td>\n",
              "      <td>2015</td>\n",
              "      <td>7</td>\n",
              "    </tr>\n",
              "    <tr>\n",
              "      <th>4</th>\n",
              "      <td>1</td>\n",
              "      <td>1</td>\n",
              "      <td>6102</td>\n",
              "      <td>612</td>\n",
              "      <td>1</td>\n",
              "      <td>1</td>\n",
              "      <td>0</td>\n",
              "      <td>1</td>\n",
              "      <td>2</td>\n",
              "      <td>0</td>\n",
              "      <td>1270.0</td>\n",
              "      <td>9.0</td>\n",
              "      <td>2008.0</td>\n",
              "      <td>0</td>\n",
              "      <td>0.0</td>\n",
              "      <td>0.0</td>\n",
              "      <td>0</td>\n",
              "      <td>2015</td>\n",
              "      <td>7</td>\n",
              "    </tr>\n",
              "  </tbody>\n",
              "</table>\n",
              "</div>\n",
              "      <button class=\"colab-df-convert\" onclick=\"convertToInteractive('df-a916f6d6-afc2-4bf5-8150-f4b53aa5bd63')\"\n",
              "              title=\"Convert this dataframe to an interactive table.\"\n",
              "              style=\"display:none;\">\n",
              "        \n",
              "  <svg xmlns=\"http://www.w3.org/2000/svg\" height=\"24px\"viewBox=\"0 0 24 24\"\n",
              "       width=\"24px\">\n",
              "    <path d=\"M0 0h24v24H0V0z\" fill=\"none\"/>\n",
              "    <path d=\"M18.56 5.44l.94 2.06.94-2.06 2.06-.94-2.06-.94-.94-2.06-.94 2.06-2.06.94zm-11 1L8.5 8.5l.94-2.06 2.06-.94-2.06-.94L8.5 2.5l-.94 2.06-2.06.94zm10 10l.94 2.06.94-2.06 2.06-.94-2.06-.94-.94-2.06-.94 2.06-2.06.94z\"/><path d=\"M17.41 7.96l-1.37-1.37c-.4-.4-.92-.59-1.43-.59-.52 0-1.04.2-1.43.59L10.3 9.45l-7.72 7.72c-.78.78-.78 2.05 0 2.83L4 21.41c.39.39.9.59 1.41.59.51 0 1.02-.2 1.41-.59l7.78-7.78 2.81-2.81c.8-.78.8-2.07 0-2.86zM5.41 20L4 18.59l7.72-7.72 1.47 1.35L5.41 20z\"/>\n",
              "  </svg>\n",
              "      </button>\n",
              "      \n",
              "  <style>\n",
              "    .colab-df-container {\n",
              "      display:flex;\n",
              "      flex-wrap:wrap;\n",
              "      gap: 12px;\n",
              "    }\n",
              "\n",
              "    .colab-df-convert {\n",
              "      background-color: #E8F0FE;\n",
              "      border: none;\n",
              "      border-radius: 50%;\n",
              "      cursor: pointer;\n",
              "      display: none;\n",
              "      fill: #1967D2;\n",
              "      height: 32px;\n",
              "      padding: 0 0 0 0;\n",
              "      width: 32px;\n",
              "    }\n",
              "\n",
              "    .colab-df-convert:hover {\n",
              "      background-color: #E2EBFA;\n",
              "      box-shadow: 0px 1px 2px rgba(60, 64, 67, 0.3), 0px 1px 3px 1px rgba(60, 64, 67, 0.15);\n",
              "      fill: #174EA6;\n",
              "    }\n",
              "\n",
              "    [theme=dark] .colab-df-convert {\n",
              "      background-color: #3B4455;\n",
              "      fill: #D2E3FC;\n",
              "    }\n",
              "\n",
              "    [theme=dark] .colab-df-convert:hover {\n",
              "      background-color: #434B5C;\n",
              "      box-shadow: 0px 1px 3px 1px rgba(0, 0, 0, 0.15);\n",
              "      filter: drop-shadow(0px 1px 2px rgba(0, 0, 0, 0.3));\n",
              "      fill: #FFFFFF;\n",
              "    }\n",
              "  </style>\n",
              "\n",
              "      <script>\n",
              "        const buttonEl =\n",
              "          document.querySelector('#df-a916f6d6-afc2-4bf5-8150-f4b53aa5bd63 button.colab-df-convert');\n",
              "        buttonEl.style.display =\n",
              "          google.colab.kernel.accessAllowed ? 'block' : 'none';\n",
              "\n",
              "        async function convertToInteractive(key) {\n",
              "          const element = document.querySelector('#df-a916f6d6-afc2-4bf5-8150-f4b53aa5bd63');\n",
              "          const dataTable =\n",
              "            await google.colab.kernel.invokeFunction('convertToInteractive',\n",
              "                                                     [key], {});\n",
              "          if (!dataTable) return;\n",
              "\n",
              "          const docLinkHtml = 'Like what you see? Visit the ' +\n",
              "            '<a target=\"_blank\" href=https://colab.research.google.com/notebooks/data_table.ipynb>data table notebook</a>'\n",
              "            + ' to learn more about interactive tables.';\n",
              "          element.innerHTML = '';\n",
              "          dataTable['output_type'] = 'display_data';\n",
              "          await google.colab.output.renderOutput(dataTable, element);\n",
              "          const docLink = document.createElement('div');\n",
              "          docLink.innerHTML = docLinkHtml;\n",
              "          element.appendChild(docLink);\n",
              "        }\n",
              "      </script>\n",
              "    </div>\n",
              "  </div>\n",
              "  "
            ]
          },
          "metadata": {},
          "execution_count": 43
        }
      ],
      "source": [
        "# encoding all categorical varibale to numeric values\n",
        "from sklearn.preprocessing import LabelEncoder\n",
        "label_encoder = LabelEncoder()\n",
        "\n",
        "merged_data['StoreType'] = label_encoder.fit_transform(merged_data['StoreType'])\n",
        "merged_data['Assortment'] = label_encoder.fit_transform(merged_data['Assortment'])\n",
        "merged_data['StateHoliday'] = label_encoder.fit_transform(merged_data['StateHoliday'])\n",
        "merged_data['PromoInterval'] = label_encoder.fit_transform(merged_data['PromoInterval'])\n",
        "\n",
        "merged_data.head()"
      ]
    },
    {
      "cell_type": "markdown",
      "metadata": {
        "id": "YGGEn0E11tgm"
      },
      "source": [
        "##5.2 Looking at the scenerio where the Stores are open and yet there is no sales on that day."
      ]
    },
    {
      "cell_type": "code",
      "execution_count": null,
      "metadata": {
        "colab": {
          "base_uri": "https://localhost:8080/",
          "height": 287
        },
        "id": "hbYwBomt14FX",
        "outputId": "af5ce377-5f7c-42f8-f2d9-b2129ff52355"
      },
      "outputs": [
        {
          "output_type": "stream",
          "name": "stdout",
          "text": [
            "(30, 19)\n"
          ]
        },
        {
          "output_type": "execute_result",
          "data": {
            "text/plain": [
              "        Store  DayOfWeek  Sales  Customers  Open  Promo  StateHoliday  \\\n",
              "51491      57          2      0          0     1      1             0   \n",
              "92582     102          6      0          0     1      0             0   \n",
              "210424    232          4      0          0     1      1             0   \n",
              "235476    259          4      0          0     1      1             0   \n",
              "308819    339          4      0          0     1      0             0   \n",
              "\n",
              "        SchoolHoliday  StoreType  Assortment  CompetitionDistance  \\\n",
              "51491               0          3           2                420.0   \n",
              "92582               0          0           0                150.0   \n",
              "210424              0          2           2              13570.0   \n",
              "235476              0          1           1                210.0   \n",
              "308819              0          0           2               2280.0   \n",
              "\n",
              "        CompetitionOpenSinceMonth  CompetitionOpenSinceYear  Promo2  \\\n",
              "51491                         6.0                    2014.0       0   \n",
              "92582                        12.0                    2007.0       1   \n",
              "210424                        5.0                    2010.0       1   \n",
              "235476                        9.0                    2013.0       0   \n",
              "308819                        9.0                    2013.0       1   \n",
              "\n",
              "        Promo2SinceWeek  Promo2SinceYear  PromoInterval  Year  Month  \n",
              "51491               0.0              0.0              0  2014      7  \n",
              "92582              10.0           2014.0              3  2014      7  \n",
              "210424             10.0           2013.0              3  2013      1  \n",
              "235476              0.0              0.0              0  2013      2  \n",
              "308819             10.0           2013.0              3  2013      1  "
            ],
            "text/html": [
              "\n",
              "  <div id=\"df-7e6c87db-19ba-445a-b513-be41013a03fd\">\n",
              "    <div class=\"colab-df-container\">\n",
              "      <div>\n",
              "<style scoped>\n",
              "    .dataframe tbody tr th:only-of-type {\n",
              "        vertical-align: middle;\n",
              "    }\n",
              "\n",
              "    .dataframe tbody tr th {\n",
              "        vertical-align: top;\n",
              "    }\n",
              "\n",
              "    .dataframe thead th {\n",
              "        text-align: right;\n",
              "    }\n",
              "</style>\n",
              "<table border=\"1\" class=\"dataframe\">\n",
              "  <thead>\n",
              "    <tr style=\"text-align: right;\">\n",
              "      <th></th>\n",
              "      <th>Store</th>\n",
              "      <th>DayOfWeek</th>\n",
              "      <th>Sales</th>\n",
              "      <th>Customers</th>\n",
              "      <th>Open</th>\n",
              "      <th>Promo</th>\n",
              "      <th>StateHoliday</th>\n",
              "      <th>SchoolHoliday</th>\n",
              "      <th>StoreType</th>\n",
              "      <th>Assortment</th>\n",
              "      <th>CompetitionDistance</th>\n",
              "      <th>CompetitionOpenSinceMonth</th>\n",
              "      <th>CompetitionOpenSinceYear</th>\n",
              "      <th>Promo2</th>\n",
              "      <th>Promo2SinceWeek</th>\n",
              "      <th>Promo2SinceYear</th>\n",
              "      <th>PromoInterval</th>\n",
              "      <th>Year</th>\n",
              "      <th>Month</th>\n",
              "    </tr>\n",
              "  </thead>\n",
              "  <tbody>\n",
              "    <tr>\n",
              "      <th>51491</th>\n",
              "      <td>57</td>\n",
              "      <td>2</td>\n",
              "      <td>0</td>\n",
              "      <td>0</td>\n",
              "      <td>1</td>\n",
              "      <td>1</td>\n",
              "      <td>0</td>\n",
              "      <td>0</td>\n",
              "      <td>3</td>\n",
              "      <td>2</td>\n",
              "      <td>420.0</td>\n",
              "      <td>6.0</td>\n",
              "      <td>2014.0</td>\n",
              "      <td>0</td>\n",
              "      <td>0.0</td>\n",
              "      <td>0.0</td>\n",
              "      <td>0</td>\n",
              "      <td>2014</td>\n",
              "      <td>7</td>\n",
              "    </tr>\n",
              "    <tr>\n",
              "      <th>92582</th>\n",
              "      <td>102</td>\n",
              "      <td>6</td>\n",
              "      <td>0</td>\n",
              "      <td>0</td>\n",
              "      <td>1</td>\n",
              "      <td>0</td>\n",
              "      <td>0</td>\n",
              "      <td>0</td>\n",
              "      <td>0</td>\n",
              "      <td>0</td>\n",
              "      <td>150.0</td>\n",
              "      <td>12.0</td>\n",
              "      <td>2007.0</td>\n",
              "      <td>1</td>\n",
              "      <td>10.0</td>\n",
              "      <td>2014.0</td>\n",
              "      <td>3</td>\n",
              "      <td>2014</td>\n",
              "      <td>7</td>\n",
              "    </tr>\n",
              "    <tr>\n",
              "      <th>210424</th>\n",
              "      <td>232</td>\n",
              "      <td>4</td>\n",
              "      <td>0</td>\n",
              "      <td>0</td>\n",
              "      <td>1</td>\n",
              "      <td>1</td>\n",
              "      <td>0</td>\n",
              "      <td>0</td>\n",
              "      <td>2</td>\n",
              "      <td>2</td>\n",
              "      <td>13570.0</td>\n",
              "      <td>5.0</td>\n",
              "      <td>2010.0</td>\n",
              "      <td>1</td>\n",
              "      <td>10.0</td>\n",
              "      <td>2013.0</td>\n",
              "      <td>3</td>\n",
              "      <td>2013</td>\n",
              "      <td>1</td>\n",
              "    </tr>\n",
              "    <tr>\n",
              "      <th>235476</th>\n",
              "      <td>259</td>\n",
              "      <td>4</td>\n",
              "      <td>0</td>\n",
              "      <td>0</td>\n",
              "      <td>1</td>\n",
              "      <td>1</td>\n",
              "      <td>0</td>\n",
              "      <td>0</td>\n",
              "      <td>1</td>\n",
              "      <td>1</td>\n",
              "      <td>210.0</td>\n",
              "      <td>9.0</td>\n",
              "      <td>2013.0</td>\n",
              "      <td>0</td>\n",
              "      <td>0.0</td>\n",
              "      <td>0.0</td>\n",
              "      <td>0</td>\n",
              "      <td>2013</td>\n",
              "      <td>2</td>\n",
              "    </tr>\n",
              "    <tr>\n",
              "      <th>308819</th>\n",
              "      <td>339</td>\n",
              "      <td>4</td>\n",
              "      <td>0</td>\n",
              "      <td>0</td>\n",
              "      <td>1</td>\n",
              "      <td>0</td>\n",
              "      <td>0</td>\n",
              "      <td>0</td>\n",
              "      <td>0</td>\n",
              "      <td>2</td>\n",
              "      <td>2280.0</td>\n",
              "      <td>9.0</td>\n",
              "      <td>2013.0</td>\n",
              "      <td>1</td>\n",
              "      <td>10.0</td>\n",
              "      <td>2013.0</td>\n",
              "      <td>3</td>\n",
              "      <td>2013</td>\n",
              "      <td>1</td>\n",
              "    </tr>\n",
              "  </tbody>\n",
              "</table>\n",
              "</div>\n",
              "      <button class=\"colab-df-convert\" onclick=\"convertToInteractive('df-7e6c87db-19ba-445a-b513-be41013a03fd')\"\n",
              "              title=\"Convert this dataframe to an interactive table.\"\n",
              "              style=\"display:none;\">\n",
              "        \n",
              "  <svg xmlns=\"http://www.w3.org/2000/svg\" height=\"24px\"viewBox=\"0 0 24 24\"\n",
              "       width=\"24px\">\n",
              "    <path d=\"M0 0h24v24H0V0z\" fill=\"none\"/>\n",
              "    <path d=\"M18.56 5.44l.94 2.06.94-2.06 2.06-.94-2.06-.94-.94-2.06-.94 2.06-2.06.94zm-11 1L8.5 8.5l.94-2.06 2.06-.94-2.06-.94L8.5 2.5l-.94 2.06-2.06.94zm10 10l.94 2.06.94-2.06 2.06-.94-2.06-.94-.94-2.06-.94 2.06-2.06.94z\"/><path d=\"M17.41 7.96l-1.37-1.37c-.4-.4-.92-.59-1.43-.59-.52 0-1.04.2-1.43.59L10.3 9.45l-7.72 7.72c-.78.78-.78 2.05 0 2.83L4 21.41c.39.39.9.59 1.41.59.51 0 1.02-.2 1.41-.59l7.78-7.78 2.81-2.81c.8-.78.8-2.07 0-2.86zM5.41 20L4 18.59l7.72-7.72 1.47 1.35L5.41 20z\"/>\n",
              "  </svg>\n",
              "      </button>\n",
              "      \n",
              "  <style>\n",
              "    .colab-df-container {\n",
              "      display:flex;\n",
              "      flex-wrap:wrap;\n",
              "      gap: 12px;\n",
              "    }\n",
              "\n",
              "    .colab-df-convert {\n",
              "      background-color: #E8F0FE;\n",
              "      border: none;\n",
              "      border-radius: 50%;\n",
              "      cursor: pointer;\n",
              "      display: none;\n",
              "      fill: #1967D2;\n",
              "      height: 32px;\n",
              "      padding: 0 0 0 0;\n",
              "      width: 32px;\n",
              "    }\n",
              "\n",
              "    .colab-df-convert:hover {\n",
              "      background-color: #E2EBFA;\n",
              "      box-shadow: 0px 1px 2px rgba(60, 64, 67, 0.3), 0px 1px 3px 1px rgba(60, 64, 67, 0.15);\n",
              "      fill: #174EA6;\n",
              "    }\n",
              "\n",
              "    [theme=dark] .colab-df-convert {\n",
              "      background-color: #3B4455;\n",
              "      fill: #D2E3FC;\n",
              "    }\n",
              "\n",
              "    [theme=dark] .colab-df-convert:hover {\n",
              "      background-color: #434B5C;\n",
              "      box-shadow: 0px 1px 3px 1px rgba(0, 0, 0, 0.15);\n",
              "      filter: drop-shadow(0px 1px 2px rgba(0, 0, 0, 0.3));\n",
              "      fill: #FFFFFF;\n",
              "    }\n",
              "  </style>\n",
              "\n",
              "      <script>\n",
              "        const buttonEl =\n",
              "          document.querySelector('#df-7e6c87db-19ba-445a-b513-be41013a03fd button.colab-df-convert');\n",
              "        buttonEl.style.display =\n",
              "          google.colab.kernel.accessAllowed ? 'block' : 'none';\n",
              "\n",
              "        async function convertToInteractive(key) {\n",
              "          const element = document.querySelector('#df-7e6c87db-19ba-445a-b513-be41013a03fd');\n",
              "          const dataTable =\n",
              "            await google.colab.kernel.invokeFunction('convertToInteractive',\n",
              "                                                     [key], {});\n",
              "          if (!dataTable) return;\n",
              "\n",
              "          const docLinkHtml = 'Like what you see? Visit the ' +\n",
              "            '<a target=\"_blank\" href=https://colab.research.google.com/notebooks/data_table.ipynb>data table notebook</a>'\n",
              "            + ' to learn more about interactive tables.';\n",
              "          element.innerHTML = '';\n",
              "          dataTable['output_type'] = 'display_data';\n",
              "          await google.colab.output.renderOutput(dataTable, element);\n",
              "          const docLink = document.createElement('div');\n",
              "          docLink.innerHTML = docLinkHtml;\n",
              "          element.appendChild(docLink);\n",
              "        }\n",
              "      </script>\n",
              "    </div>\n",
              "  </div>\n",
              "  "
            ]
          },
          "metadata": {},
          "execution_count": 44
        }
      ],
      "source": [
        "no_sales = merged_data.loc[(merged_data['Sales']==0) & (merged_data['Open'] == 1) & (merged_data['StateHoliday'] == 0) \n",
        "                               & (merged_data['SchoolHoliday'] == 0)]\n",
        "print(no_sales.shape)\n",
        "no_sales.head()"
      ]
    },
    {
      "cell_type": "markdown",
      "metadata": {
        "id": "nAbsRhFs2K_y"
      },
      "source": [
        "**Observation:**\n",
        "\n",
        "There are total 30 days where there is no record of sales even without any holidays. We can remove these data points too."
      ]
    },
    {
      "cell_type": "code",
      "execution_count": null,
      "metadata": {
        "colab": {
          "base_uri": "https://localhost:8080/"
        },
        "id": "Mrjfksnr2ayR",
        "outputId": "36050fdd-dfb9-4335-ed64-c4c1dd7f0e05"
      },
      "outputs": [
        {
          "output_type": "stream",
          "name": "stdout",
          "text": [
            "(1016409, 19)\n"
          ]
        }
      ],
      "source": [
        "merged_data.drop(merged_data.loc[(merged_data['Sales']==0) & (merged_data['Open'] == 1)\n",
        "                                     & (merged_data['StateHoliday'] == 0) & \n",
        "                                     (merged_data['SchoolHoliday'] == 0)].index,inplace=True)\n",
        "print(merged_data.shape)"
      ]
    },
    {
      "cell_type": "code",
      "execution_count": null,
      "metadata": {
        "colab": {
          "base_uri": "https://localhost:8080/",
          "height": 270
        },
        "id": "hQXo7u6L2sb6",
        "outputId": "57020e28-e880-4386-b943-037ba5230a48"
      },
      "outputs": [
        {
          "output_type": "execute_result",
          "data": {
            "text/plain": [
              "   Store  DayOfWeek  Sales  Customers  Open  Promo  StateHoliday  \\\n",
              "0      1          5   5263        555     1      1             0   \n",
              "1      1          4   5020        546     1      1             0   \n",
              "2      1          3   4782        523     1      1             0   \n",
              "3      1          2   5011        560     1      1             0   \n",
              "4      1          1   6102        612     1      1             0   \n",
              "\n",
              "   SchoolHoliday  StoreType  Assortment  CompetitionDistance  \\\n",
              "0              1          2           0               1270.0   \n",
              "1              1          2           0               1270.0   \n",
              "2              1          2           0               1270.0   \n",
              "3              1          2           0               1270.0   \n",
              "4              1          2           0               1270.0   \n",
              "\n",
              "   CompetitionOpenSinceMonth  CompetitionOpenSinceYear  Promo2  \\\n",
              "0                        9.0                    2008.0       0   \n",
              "1                        9.0                    2008.0       0   \n",
              "2                        9.0                    2008.0       0   \n",
              "3                        9.0                    2008.0       0   \n",
              "4                        9.0                    2008.0       0   \n",
              "\n",
              "   Promo2SinceWeek  Promo2SinceYear  PromoInterval  Year  Month  \n",
              "0              0.0              0.0              0  2015      7  \n",
              "1              0.0              0.0              0  2015      7  \n",
              "2              0.0              0.0              0  2015      7  \n",
              "3              0.0              0.0              0  2015      7  \n",
              "4              0.0              0.0              0  2015      7  "
            ],
            "text/html": [
              "\n",
              "  <div id=\"df-3300b333-752a-4b47-8202-b5310e313c2d\">\n",
              "    <div class=\"colab-df-container\">\n",
              "      <div>\n",
              "<style scoped>\n",
              "    .dataframe tbody tr th:only-of-type {\n",
              "        vertical-align: middle;\n",
              "    }\n",
              "\n",
              "    .dataframe tbody tr th {\n",
              "        vertical-align: top;\n",
              "    }\n",
              "\n",
              "    .dataframe thead th {\n",
              "        text-align: right;\n",
              "    }\n",
              "</style>\n",
              "<table border=\"1\" class=\"dataframe\">\n",
              "  <thead>\n",
              "    <tr style=\"text-align: right;\">\n",
              "      <th></th>\n",
              "      <th>Store</th>\n",
              "      <th>DayOfWeek</th>\n",
              "      <th>Sales</th>\n",
              "      <th>Customers</th>\n",
              "      <th>Open</th>\n",
              "      <th>Promo</th>\n",
              "      <th>StateHoliday</th>\n",
              "      <th>SchoolHoliday</th>\n",
              "      <th>StoreType</th>\n",
              "      <th>Assortment</th>\n",
              "      <th>CompetitionDistance</th>\n",
              "      <th>CompetitionOpenSinceMonth</th>\n",
              "      <th>CompetitionOpenSinceYear</th>\n",
              "      <th>Promo2</th>\n",
              "      <th>Promo2SinceWeek</th>\n",
              "      <th>Promo2SinceYear</th>\n",
              "      <th>PromoInterval</th>\n",
              "      <th>Year</th>\n",
              "      <th>Month</th>\n",
              "    </tr>\n",
              "  </thead>\n",
              "  <tbody>\n",
              "    <tr>\n",
              "      <th>0</th>\n",
              "      <td>1</td>\n",
              "      <td>5</td>\n",
              "      <td>5263</td>\n",
              "      <td>555</td>\n",
              "      <td>1</td>\n",
              "      <td>1</td>\n",
              "      <td>0</td>\n",
              "      <td>1</td>\n",
              "      <td>2</td>\n",
              "      <td>0</td>\n",
              "      <td>1270.0</td>\n",
              "      <td>9.0</td>\n",
              "      <td>2008.0</td>\n",
              "      <td>0</td>\n",
              "      <td>0.0</td>\n",
              "      <td>0.0</td>\n",
              "      <td>0</td>\n",
              "      <td>2015</td>\n",
              "      <td>7</td>\n",
              "    </tr>\n",
              "    <tr>\n",
              "      <th>1</th>\n",
              "      <td>1</td>\n",
              "      <td>4</td>\n",
              "      <td>5020</td>\n",
              "      <td>546</td>\n",
              "      <td>1</td>\n",
              "      <td>1</td>\n",
              "      <td>0</td>\n",
              "      <td>1</td>\n",
              "      <td>2</td>\n",
              "      <td>0</td>\n",
              "      <td>1270.0</td>\n",
              "      <td>9.0</td>\n",
              "      <td>2008.0</td>\n",
              "      <td>0</td>\n",
              "      <td>0.0</td>\n",
              "      <td>0.0</td>\n",
              "      <td>0</td>\n",
              "      <td>2015</td>\n",
              "      <td>7</td>\n",
              "    </tr>\n",
              "    <tr>\n",
              "      <th>2</th>\n",
              "      <td>1</td>\n",
              "      <td>3</td>\n",
              "      <td>4782</td>\n",
              "      <td>523</td>\n",
              "      <td>1</td>\n",
              "      <td>1</td>\n",
              "      <td>0</td>\n",
              "      <td>1</td>\n",
              "      <td>2</td>\n",
              "      <td>0</td>\n",
              "      <td>1270.0</td>\n",
              "      <td>9.0</td>\n",
              "      <td>2008.0</td>\n",
              "      <td>0</td>\n",
              "      <td>0.0</td>\n",
              "      <td>0.0</td>\n",
              "      <td>0</td>\n",
              "      <td>2015</td>\n",
              "      <td>7</td>\n",
              "    </tr>\n",
              "    <tr>\n",
              "      <th>3</th>\n",
              "      <td>1</td>\n",
              "      <td>2</td>\n",
              "      <td>5011</td>\n",
              "      <td>560</td>\n",
              "      <td>1</td>\n",
              "      <td>1</td>\n",
              "      <td>0</td>\n",
              "      <td>1</td>\n",
              "      <td>2</td>\n",
              "      <td>0</td>\n",
              "      <td>1270.0</td>\n",
              "      <td>9.0</td>\n",
              "      <td>2008.0</td>\n",
              "      <td>0</td>\n",
              "      <td>0.0</td>\n",
              "      <td>0.0</td>\n",
              "      <td>0</td>\n",
              "      <td>2015</td>\n",
              "      <td>7</td>\n",
              "    </tr>\n",
              "    <tr>\n",
              "      <th>4</th>\n",
              "      <td>1</td>\n",
              "      <td>1</td>\n",
              "      <td>6102</td>\n",
              "      <td>612</td>\n",
              "      <td>1</td>\n",
              "      <td>1</td>\n",
              "      <td>0</td>\n",
              "      <td>1</td>\n",
              "      <td>2</td>\n",
              "      <td>0</td>\n",
              "      <td>1270.0</td>\n",
              "      <td>9.0</td>\n",
              "      <td>2008.0</td>\n",
              "      <td>0</td>\n",
              "      <td>0.0</td>\n",
              "      <td>0.0</td>\n",
              "      <td>0</td>\n",
              "      <td>2015</td>\n",
              "      <td>7</td>\n",
              "    </tr>\n",
              "  </tbody>\n",
              "</table>\n",
              "</div>\n",
              "      <button class=\"colab-df-convert\" onclick=\"convertToInteractive('df-3300b333-752a-4b47-8202-b5310e313c2d')\"\n",
              "              title=\"Convert this dataframe to an interactive table.\"\n",
              "              style=\"display:none;\">\n",
              "        \n",
              "  <svg xmlns=\"http://www.w3.org/2000/svg\" height=\"24px\"viewBox=\"0 0 24 24\"\n",
              "       width=\"24px\">\n",
              "    <path d=\"M0 0h24v24H0V0z\" fill=\"none\"/>\n",
              "    <path d=\"M18.56 5.44l.94 2.06.94-2.06 2.06-.94-2.06-.94-.94-2.06-.94 2.06-2.06.94zm-11 1L8.5 8.5l.94-2.06 2.06-.94-2.06-.94L8.5 2.5l-.94 2.06-2.06.94zm10 10l.94 2.06.94-2.06 2.06-.94-2.06-.94-.94-2.06-.94 2.06-2.06.94z\"/><path d=\"M17.41 7.96l-1.37-1.37c-.4-.4-.92-.59-1.43-.59-.52 0-1.04.2-1.43.59L10.3 9.45l-7.72 7.72c-.78.78-.78 2.05 0 2.83L4 21.41c.39.39.9.59 1.41.59.51 0 1.02-.2 1.41-.59l7.78-7.78 2.81-2.81c.8-.78.8-2.07 0-2.86zM5.41 20L4 18.59l7.72-7.72 1.47 1.35L5.41 20z\"/>\n",
              "  </svg>\n",
              "      </button>\n",
              "      \n",
              "  <style>\n",
              "    .colab-df-container {\n",
              "      display:flex;\n",
              "      flex-wrap:wrap;\n",
              "      gap: 12px;\n",
              "    }\n",
              "\n",
              "    .colab-df-convert {\n",
              "      background-color: #E8F0FE;\n",
              "      border: none;\n",
              "      border-radius: 50%;\n",
              "      cursor: pointer;\n",
              "      display: none;\n",
              "      fill: #1967D2;\n",
              "      height: 32px;\n",
              "      padding: 0 0 0 0;\n",
              "      width: 32px;\n",
              "    }\n",
              "\n",
              "    .colab-df-convert:hover {\n",
              "      background-color: #E2EBFA;\n",
              "      box-shadow: 0px 1px 2px rgba(60, 64, 67, 0.3), 0px 1px 3px 1px rgba(60, 64, 67, 0.15);\n",
              "      fill: #174EA6;\n",
              "    }\n",
              "\n",
              "    [theme=dark] .colab-df-convert {\n",
              "      background-color: #3B4455;\n",
              "      fill: #D2E3FC;\n",
              "    }\n",
              "\n",
              "    [theme=dark] .colab-df-convert:hover {\n",
              "      background-color: #434B5C;\n",
              "      box-shadow: 0px 1px 3px 1px rgba(0, 0, 0, 0.15);\n",
              "      filter: drop-shadow(0px 1px 2px rgba(0, 0, 0, 0.3));\n",
              "      fill: #FFFFFF;\n",
              "    }\n",
              "  </style>\n",
              "\n",
              "      <script>\n",
              "        const buttonEl =\n",
              "          document.querySelector('#df-3300b333-752a-4b47-8202-b5310e313c2d button.colab-df-convert');\n",
              "        buttonEl.style.display =\n",
              "          google.colab.kernel.accessAllowed ? 'block' : 'none';\n",
              "\n",
              "        async function convertToInteractive(key) {\n",
              "          const element = document.querySelector('#df-3300b333-752a-4b47-8202-b5310e313c2d');\n",
              "          const dataTable =\n",
              "            await google.colab.kernel.invokeFunction('convertToInteractive',\n",
              "                                                     [key], {});\n",
              "          if (!dataTable) return;\n",
              "\n",
              "          const docLinkHtml = 'Like what you see? Visit the ' +\n",
              "            '<a target=\"_blank\" href=https://colab.research.google.com/notebooks/data_table.ipynb>data table notebook</a>'\n",
              "            + ' to learn more about interactive tables.';\n",
              "          element.innerHTML = '';\n",
              "          dataTable['output_type'] = 'display_data';\n",
              "          await google.colab.output.renderOutput(dataTable, element);\n",
              "          const docLink = document.createElement('div');\n",
              "          docLink.innerHTML = docLinkHtml;\n",
              "          element.appendChild(docLink);\n",
              "        }\n",
              "      </script>\n",
              "    </div>\n",
              "  </div>\n",
              "  "
            ]
          },
          "metadata": {},
          "execution_count": 46
        }
      ],
      "source": [
        "merged_data.head()"
      ]
    },
    {
      "cell_type": "markdown",
      "metadata": {
        "id": "mP2yg_JZ-66u"
      },
      "source": [
        "#**6.** **Building a Regression Model**"
      ]
    },
    {
      "cell_type": "markdown",
      "metadata": {
        "id": "rb_ei4MxA3Ov"
      },
      "source": [
        "## Here we want our ML model to predict sales only when they are open and we know that there will be no sales if the store is closed."
      ]
    },
    {
      "cell_type": "code",
      "execution_count": null,
      "metadata": {
        "id": "8eIuFhGfBMDx"
      },
      "outputs": [],
      "source": [
        "merged_data_open = merged_data[merged_data['Open']==1]\n",
        "merged_data_closed = merged_data[merged_data['Open']==0]"
      ]
    },
    {
      "cell_type": "code",
      "execution_count": null,
      "metadata": {
        "id": "aW3XBYbtCjCt"
      },
      "outputs": [],
      "source": [
        "from sklearn.model_selection import train_test_split\n",
        "from sklearn.metrics import r2_score,mean_squared_error,mean_absolute_error\n",
        "import math\n",
        "\n",
        "X_train, X_test, y_train, y_test_open = train_test_split(merged_data_open.drop(['Sales','Customers','Open',],axis=1),\n",
        "                                                        merged_data_open['Sales'], test_size=0.2, random_state=23)"
      ]
    },
    {
      "cell_type": "code",
      "execution_count": null,
      "metadata": {
        "colab": {
          "base_uri": "https://localhost:8080/"
        },
        "id": "Jv5FdjpeC2dE",
        "outputId": "93aaf6ae-2a02-498d-efa7-73400b7bb41b"
      },
      "outputs": [
        {
          "output_type": "execute_result",
          "data": {
            "text/plain": [
              "Index(['Store', 'DayOfWeek', 'Promo', 'StateHoliday', 'SchoolHoliday',\n",
              "       'StoreType', 'Assortment', 'CompetitionDistance',\n",
              "       'CompetitionOpenSinceMonth', 'CompetitionOpenSinceYear', 'Promo2',\n",
              "       'Promo2SinceWeek', 'Promo2SinceYear', 'PromoInterval', 'Year', 'Month'],\n",
              "      dtype='object')"
            ]
          },
          "metadata": {},
          "execution_count": 49
        }
      ],
      "source": [
        "X_train.columns"
      ]
    },
    {
      "cell_type": "code",
      "execution_count": null,
      "metadata": {
        "colab": {
          "base_uri": "https://localhost:8080/"
        },
        "id": "WljERYCtC7J3",
        "outputId": "bc23fb64-3df6-4d71-eb89-62fc6055e478"
      },
      "outputs": [
        {
          "output_type": "execute_result",
          "data": {
            "text/plain": [
              "971475    3345\n",
              "89177     5057\n",
              "351720    9267\n",
              "489190    5850\n",
              "67112     4536\n",
              "Name: Sales, dtype: int64"
            ]
          },
          "metadata": {},
          "execution_count": 50
        }
      ],
      "source": [
        "y_train.head()"
      ]
    },
    {
      "cell_type": "code",
      "execution_count": null,
      "metadata": {
        "id": "dnuTYDG6DQkA"
      },
      "outputs": [],
      "source": [
        "y_test_closed = np.zeros(merged_data_closed.shape[0])\n",
        "y_test = np.append(y_test_open, y_test_closed)"
      ]
    },
    {
      "cell_type": "markdown",
      "metadata": {
        "id": "PdPofqYHDe8L"
      },
      "source": [
        "##6.1 Linear Regression Algorithm"
      ]
    },
    {
      "cell_type": "code",
      "execution_count": null,
      "metadata": {
        "colab": {
          "base_uri": "https://localhost:8080/"
        },
        "id": "zeeExnqHtKzg",
        "outputId": "9f34ed8a-639e-46f4-cbdf-316d72268c59"
      },
      "outputs": [
        {
          "output_type": "execute_result",
          "data": {
            "text/plain": [
              "LinearRegression()"
            ]
          },
          "metadata": {},
          "execution_count": 52
        }
      ],
      "source": [
        "from sklearn.linear_model import LinearRegression\n",
        "\n",
        "model = LinearRegression()\n",
        "model.fit(X_train,y_train)"
      ]
    },
    {
      "cell_type": "code",
      "execution_count": null,
      "metadata": {
        "id": "sF0tdTav23Kx"
      },
      "outputs": [],
      "source": [
        "prediction_open = model.predict(X_test)\n",
        "prediction_closed = np.zeros(merged_data_closed.shape[0])\n",
        "\n",
        "y_predict = np.append(prediction_open,prediction_closed)"
      ]
    },
    {
      "cell_type": "code",
      "execution_count": null,
      "metadata": {
        "colab": {
          "base_uri": "https://localhost:8080/"
        },
        "id": "cIHoAkNB2-ri",
        "outputId": "88018772-9489-4cae-d9e4-42c994c5b2c5"
      },
      "outputs": [
        {
          "output_type": "stream",
          "name": "stdout",
          "text": [
            "r2_score: 0.7773037453225706\n",
            "Mean absolute error: 995.40\n",
            "Root mean squared error:  1923.5239720480379\n"
          ]
        }
      ],
      "source": [
        "#Performance of the model\n",
        "\n",
        "print('r2_score:',r2_score(y_test,y_predict))\n",
        "print('Mean absolute error: %.2f' % mean_absolute_error(y_test,y_predict))\n",
        "print('Root mean squared error: ', math.sqrt(mean_squared_error(y_test,y_predict)))"
      ]
    },
    {
      "cell_type": "code",
      "execution_count": null,
      "metadata": {
        "colab": {
          "base_uri": "https://localhost:8080/",
          "height": 405
        },
        "id": "of9E-E273PRK",
        "outputId": "cfb1b533-aea3-4d58-ec01-5313daac83ad"
      },
      "outputs": [
        {
          "output_type": "execute_result",
          "data": {
            "text/plain": [
              "Text(0, 0.5, 'Predicted values')"
            ]
          },
          "metadata": {},
          "execution_count": 55
        },
        {
          "output_type": "display_data",
          "data": {
            "text/plain": [
              "<Figure size 432x432 with 1 Axes>"
            ],
            "image/png": "[encoded data removed]"
          },
          "metadata": {
            "needs_background": "light"
          }
        }
      ],
      "source": [
        "plt.figure(figsize=(6,6))\n",
        "plt.scatter(y_test,y_predict)\n",
        "\n",
        "p1 = max(max(y_predict),max(y_test))\n",
        "p2 = min(min(y_predict),min(y_test))\n",
        "plt.plot([p1,p2],[p1,p2],c='r')\n",
        "plt.xlabel('Actual values')\n",
        "plt.ylabel('Predicted values')"
      ]
    },
    {
      "cell_type": "markdown",
      "metadata": {
        "id": "ZTutkga23ZJX"
      },
      "source": [
        "**Observation:**\n",
        "\n",
        "From the above plot we can see that Linear regression model is performing badly as its not making any predictions more than 10000 even for 25000 sales."
      ]
    },
    {
      "cell_type": "markdown",
      "metadata": {
        "id": "pgw3oYr83kNc"
      },
      "source": [
        "##6.2 Decision Tree Regressor"
      ]
    },
    {
      "cell_type": "code",
      "execution_count": null,
      "metadata": {
        "colab": {
          "base_uri": "https://localhost:8080/",
          "height": 457
        },
        "id": "TSEotoLL3ShI",
        "outputId": "85917c04-cc79-4753-c3e8-6b8fc573e4ad"
      },
      "outputs": [
        {
          "output_type": "stream",
          "name": "stdout",
          "text": [
            "r2_score: 0.9509703546033716\n",
            "Mean absolute error: 423.22\n",
            "Root mean squared error:  902.5484457830185\n"
          ]
        },
        {
          "output_type": "execute_result",
          "data": {
            "text/plain": [
              "Text(0, 0.5, 'Predicted values')"
            ]
          },
          "metadata": {},
          "execution_count": 56
        },
        {
          "output_type": "display_data",
          "data": {
            "text/plain": [
              "<Figure size 432x432 with 1 Axes>"
            ],
            "image/png": "[encoded data removed]"
          },
          "metadata": {
            "needs_background": "light"
          }
        }
      ],
      "source": [
        "from sklearn.tree import DecisionTreeRegressor\n",
        "\n",
        "model = DecisionTreeRegressor()\n",
        "model.fit(X_train,y_train)\n",
        "\n",
        "prediction_open = model.predict(X_test)\n",
        "prediction_closed = np.zeros(merged_data_closed.shape[0])\n",
        "\n",
        "y_predict = np.append(prediction_open,prediction_closed)\n",
        "\n",
        "# Performance of the model\n",
        "\n",
        "print('r2_score:',r2_score(y_test,y_predict))\n",
        "print('Mean absolute error: %.2f' % mean_absolute_error(y_test,y_predict))\n",
        "print('Root mean squared error: ', math.sqrt(mean_squared_error(y_test,y_predict)))\n",
        "\n",
        "plt.figure(figsize=(6,6))\n",
        "plt.scatter(y_test,y_predict)\n",
        "\n",
        "p1 = max(max(y_predict),max(y_test))\n",
        "p2 = min(min(y_predict),min(y_test))\n",
        "plt.plot([p1,p2],[p1,p2],c='r')\n",
        "plt.xlabel('Actual values')\n",
        "plt.ylabel('Predicted values')"
      ]
    },
    {
      "cell_type": "markdown",
      "metadata": {
        "id": "Xx7VKoRH348Q"
      },
      "source": [
        "**Observation:**\n",
        "\n",
        "The decision tree regressor performing well compared to Linear Regression."
      ]
    },
    {
      "cell_type": "markdown",
      "metadata": {
        "id": "fARFKqlD4GK-"
      },
      "source": [
        "##6.3 Random Forest Regressor"
      ]
    },
    {
      "cell_type": "code",
      "execution_count": null,
      "metadata": {
        "colab": {
          "base_uri": "https://localhost:8080/",
          "height": 457
        },
        "id": "fj5PEJUZ4J9n",
        "outputId": "86da885d-2332-4847-e63d-c69882a837a2"
      },
      "outputs": [
        {
          "output_type": "stream",
          "name": "stdout",
          "text": [
            "r2_score: 0.9654439779510336\n",
            "Mean absolute error: 357.32\n",
            "Root mean squared error:  757.7099979302317\n"
          ]
        },
        {
          "output_type": "execute_result",
          "data": {
            "text/plain": [
              "Text(0, 0.5, 'Predicted values')"
            ]
          },
          "metadata": {},
          "execution_count": 57
        },
        {
          "output_type": "display_data",
          "data": {
            "text/plain": [
              "<Figure size 432x432 with 1 Axes>"
            ],
            "image/png": "[encoded data removed]"
          },
          "metadata": {
            "needs_background": "light"
          }
        }
      ],
      "source": [
        "from sklearn.ensemble import RandomForestRegressor\n",
        "\n",
        "random_forest_model = RandomForestRegressor(n_estimators=100)\n",
        "random_forest_model.fit(X_train,y_train)\n",
        "\n",
        "prediction_open = random_forest_model.predict(X_test)\n",
        "prediction_closed = np.zeros(merged_data_closed.shape[0])\n",
        "\n",
        "y_predict = np.append(prediction_open,prediction_closed)\n",
        "\n",
        "# Performance of the model\n",
        "\n",
        "print('r2_score:',r2_score(y_test,y_predict))\n",
        "print('Mean absolute error: %.2f' % mean_absolute_error(y_test,y_predict))\n",
        "print('Root mean squared error: ', math.sqrt(mean_squared_error(y_test,y_predict)))\n",
        "\n",
        "plt.figure(figsize=(6,6))\n",
        "plt.scatter(y_test,y_predict)\n",
        "\n",
        "p1 = max(max(y_predict),max(y_test))\n",
        "p2 = min(min(y_predict),min(y_test))\n",
        "plt.plot([p1,p2],[p1,p2],c='r')\n",
        "plt.xlabel('Actual values')\n",
        "plt.ylabel('Predicted values')"
      ]
    },
    {
      "cell_type": "markdown",
      "metadata": {
        "id": "ivKnicvB7ajJ"
      },
      "source": [
        "**Observation:**\n",
        "\n",
        "Random Forest regressor had the lowest error as compared to other models, which means it is better at predicting sales than other models."
      ]
    },
    {
      "cell_type": "markdown",
      "metadata": {
        "id": "ZBCsiArp-IUq"
      },
      "source": [
        "# **Conclusion:**\n",
        "\n",
        "## Random Forest Regressor is the best for this Dataset Problem."
      ]
    }
  ],
  "metadata": {
    "colab": {
      "collapsed_sections": [],
      "provenance": [],
      "include_colab_link": true
    },
    "kernelspec": {
      "display_name": "Python 3",
      "language": "python",
      "name": "python3"
    },
    "language_info": {
      "codemirror_mode": {
        "name": "ipython",
        "version": 3
      },
      "file_extension": ".py",
      "mimetype": "text/x-python",
      "name": "python",
      "nbconvert_exporter": "python",
      "pygments_lexer": "ipython3",
      "version": "3.6.6"
    }
  },
  "nbformat": 4,
  "nbformat_minor": 0
}